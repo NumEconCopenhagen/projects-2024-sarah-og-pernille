{
 "cells": [
  {
   "cell_type": "markdown",
   "metadata": {},
   "source": [
    "# Inaugural Project"
   ]
  },
  {
   "attachments": {},
   "cell_type": "markdown",
   "metadata": {},
   "source": [
    "> **Note the following:** \n",
    "> 1. This is an example of how to structure your **inaugural project**.\n",
    "> 1. Remember the general advice on structuring and commenting your code\n",
    "> 1. The `inauguralproject.py` file includes a function which can be used multiple times in this notebook."
   ]
  },
  {
   "cell_type": "markdown",
   "metadata": {},
   "source": [
    "Imports and set magics:"
   ]
  },
  {
   "cell_type": "code",
   "execution_count": 4,
   "metadata": {},
   "outputs": [
    {
     "name": "stdout",
     "output_type": "stream",
     "text": [
      "The autoreload extension is already loaded. To reload it, use:\n",
      "  %reload_ext autoreload\n"
     ]
    }
   ],
   "source": [
    "import numpy as np\n",
    "\n",
    "import matplotlib.pyplot as plt\n",
    "plt.rcParams.update({\"axes.grid\":True,\"grid.color\":\"black\",\"grid.alpha\":\"0.25\",\"grid.linestyle\":\"--\"})\n",
    "plt.rcParams.update({'font.size': 14})\n",
    "\n",
    "# autoreload modules when code is run. Otherwise, python will not see recent changes. \n",
    "%load_ext autoreload\n",
    "%autoreload 2\n",
    "\n",
    "# Import of our own code\n",
    "from inauguralproject import ExchangeEconomyClass\n",
    "\n",
    "model = ExchangeEconomyClass()"
   ]
  },
  {
   "cell_type": "markdown",
   "metadata": {},
   "source": [
    "# Question 1"
   ]
  },
  {
   "cell_type": "markdown",
   "metadata": {},
   "source": [
    "**Explain how you solve the model**"
   ]
  },
  {
   "cell_type": "code",
   "execution_count": 2,
   "metadata": {},
   "outputs": [
    {
     "name": "stdout",
     "output_type": "stream",
     "text": [
      "[1 4 9]\n"
     ]
    }
   ],
   "source": [
    "# code for solving the model (remember documentation and comments)\n",
    "\n",
    "a = np.array([1,2,3])\n",
    "b = inauguralproject.square(a)\n",
    "print(b)"
   ]
  },
  {
   "cell_type": "markdown",
   "metadata": {},
   "source": [
    "# Question 2"
   ]
  },
  {
   "cell_type": "markdown",
   "metadata": {},
   "source": [
    "Explain your code and procedure"
   ]
  },
  {
   "cell_type": "code",
   "execution_count": 5,
   "metadata": {},
   "outputs": [
    {
     "name": "stdout",
     "output_type": "stream",
     "text": [
      "For p1 = 0.5, Error in market clearing for x1: 0.53, Error in market clearing for x2: -0.27\n",
      "For p1 = 0.6, Error in market clearing for x1: 0.34, Error in market clearing for x2: -0.21\n",
      "For p1 = 0.7, Error in market clearing for x1: 0.21, Error in market clearing for x2: -0.15\n",
      "For p1 = 0.8, Error in market clearing for x1: 0.11, Error in market clearing for x2: -0.09\n",
      "For p1 = 0.9, Error in market clearing for x1: 0.03, Error in market clearing for x2: -0.03\n",
      "For p1 = 1.0, Error in market clearing for x1: -0.03, Error in market clearing for x2: 0.03\n",
      "For p1 = 1.1, Error in market clearing for x1: -0.08, Error in market clearing for x2: 0.09\n",
      "For p1 = 1.2, Error in market clearing for x1: -0.13, Error in market clearing for x2: 0.15\n",
      "For p1 = 1.3, Error in market clearing for x1: -0.16, Error in market clearing for x2: 0.21\n",
      "For p1 = 1.4, Error in market clearing for x1: -0.20, Error in market clearing for x2: 0.27\n",
      "For p1 = 1.5, Error in market clearing for x1: -0.22, Error in market clearing for x2: 0.33\n",
      "For p1 = 1.6, Error in market clearing for x1: -0.25, Error in market clearing for x2: 0.39\n",
      "For p1 = 1.7, Error in market clearing for x1: -0.27, Error in market clearing for x2: 0.45\n",
      "For p1 = 1.8, Error in market clearing for x1: -0.29, Error in market clearing for x2: 0.51\n",
      "For p1 = 1.9, Error in market clearing for x1: -0.30, Error in market clearing for x2: 0.57\n",
      "For p1 = 2.0, Error in market clearing for x1: -0.32, Error in market clearing for x2: 0.63\n",
      "For p1 = 2.1, Error in market clearing for x1: -0.33, Error in market clearing for x2: 0.69\n",
      "For p1 = 2.2, Error in market clearing for x1: -0.34, Error in market clearing for x2: 0.75\n",
      "For p1 = 2.3, Error in market clearing for x1: -0.35, Error in market clearing for x2: 0.81\n",
      "For p1 = 2.4, Error in market clearing for x1: -0.36, Error in market clearing for x2: 0.87\n",
      "For p1 = 2.5, Error in market clearing for x1: -0.37, Error in market clearing for x2: 0.93\n"
     ]
    }
   ],
   "source": [
    "par = model.par\n",
    "\n",
    "# Number of divisions\n",
    "N = 20\n",
    "\n",
    "# Calculate P1\n",
    "P1 = [0.5 + 2 * i / N for i in range(N + 1)]\n",
    "\n",
    "# Iterate over prices\n",
    "for p1 in P1:\n",
    "    # Calculate errors in market clearing condition\n",
    "    eps1, eps2 = model.check_market_clearing(p1)\n",
    "    \n",
    "    # Print errors\n",
    "    print(f\"For p1 = {p1:.1f}, Error in market clearing for x1: {eps1:.2f}, Error in market clearing for x2: {eps2:.2f}\")"
   ]
  },
  {
   "cell_type": "markdown",
   "metadata": {},
   "source": [
    "# Question 3"
   ]
  },
  {
   "cell_type": "markdown",
   "metadata": {},
   "source": [
    "Explain your code and procedure"
   ]
  },
  {
   "cell_type": "code",
   "execution_count": 6,
   "metadata": {},
   "outputs": [
    {
     "name": "stdout",
     "output_type": "stream",
     "text": [
      "2.5\n"
     ]
    }
   ],
   "source": [
    "#IKKE RIGTIGT TROR JEG.\n",
    "#Tror ikke det er rigtigt fordi error in market clearing for x1 og x2 ikke er 0 ved p1=2,5.\n",
    "\n",
    "# Define tolerance\n",
    "tolerance = 1e-6\n",
    "\n",
    "# Iterate over prices\n",
    "for price in P1:\n",
    "    # Calculate errors in market clearing condition\n",
    "    eps1, eps2 = model.check_market_clearing(price)\n",
    "    \n",
    "    # Check if errors are close to zero\n",
    "    if abs(eps1) < tolerance and abs(eps2) < tolerance:\n",
    "        # Market clearing price found\n",
    "        price\n",
    "        break\n",
    "\n",
    "# Print the market clearing price\n",
    "print(price)"
   ]
  },
  {
   "cell_type": "code",
   "execution_count": 8,
   "metadata": {},
   "outputs": [
    {
     "name": "stdout",
     "output_type": "stream",
     "text": [
      "2.5\n"
     ]
    }
   ],
   "source": [
    "#Måske er det rigtigt. Her får jeg også 2,5\n",
    "\n",
    "# Iterate over prices\n",
    "for price in P1:\n",
    "    if eps1 == 0 and eps1 == 0:\n",
    "        print(\"Market clearing price:\", price)\n",
    "print(price)"
   ]
  },
  {
   "cell_type": "markdown",
   "metadata": {},
   "source": [
    "ADD CONCISE CONLUSION."
   ]
  }
 ],
 "metadata": {
  "kernelspec": {
   "display_name": "base",
   "language": "python",
   "name": "python3"
  },
  "language_info": {
   "codemirror_mode": {
    "name": "ipython",
    "version": 3
   },
   "file_extension": ".py",
   "mimetype": "text/x-python",
   "name": "python",
   "nbconvert_exporter": "python",
   "pygments_lexer": "ipython3",
   "version": "3.11.7"
  },
  "toc-autonumbering": true,
  "vscode": {
   "interpreter": {
    "hash": "47ef90cdf3004d3f859f1fb202523c65c07ba7c22eefd261b181f4744e2d0403"
   }
  }
 },
 "nbformat": 4,
 "nbformat_minor": 4
}
