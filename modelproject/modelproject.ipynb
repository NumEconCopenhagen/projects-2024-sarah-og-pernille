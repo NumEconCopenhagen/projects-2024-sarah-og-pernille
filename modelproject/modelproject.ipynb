{
 "cells": [
  {
   "cell_type": "markdown",
   "metadata": {},
   "source": [
    "# YOUR PROJECT TITLE"
   ]
  },
  {
   "attachments": {},
   "cell_type": "markdown",
   "metadata": {},
   "source": [
    "> **Note the following:** \n",
    "> 1. This is *not* meant to be an example of an actual **model analysis project**, just an example of how to structure such a project.\n",
    "> 1. Remember the general advice on structuring and commenting your code\n",
    "> 1. The `modelproject.py` file includes a function which could be used multiple times in this notebook."
   ]
  },
  {
   "cell_type": "markdown",
   "metadata": {},
   "source": [
    "Imports and set magics:"
   ]
  },
  {
   "cell_type": "code",
   "execution_count": 60,
   "metadata": {},
   "outputs": [
    {
     "name": "stdout",
     "output_type": "stream",
     "text": [
      "The autoreload extension is already loaded. To reload it, use:\n",
      "  %reload_ext autoreload\n"
     ]
    }
   ],
   "source": [
    "import numpy as np\n",
    "import matplotlib.pyplot as plt\n",
    "from scipy import optimize\n",
    "import sympy as sm\n",
    "from ipywidgets import interact, widgets\n",
    "\n",
    "# autoreload modules when code is run\n",
    "%load_ext autoreload\n",
    "%autoreload 2\n",
    "\n",
    "# local modules\n",
    "#import modelproject"
   ]
  },
  {
   "cell_type": "markdown",
   "metadata": {},
   "source": [
    "# The Basic Solow Model"
   ]
  },
  {
   "cell_type": "markdown",
   "metadata": {},
   "source": [
    "The Basic Solow Model is an exogenous model for a closed economy. The production is determined by two factors in the supply side: physical capital, K, and labor, L. Physical capital is things like machines, factories, buildings and so on, where the labor is the population in the society. Capital and labor accumulate over time. The production can either be consumed today or invested in machines which will increase the production tomorrow. \n",
    "\n",
    "**The equations for The Basic Solow Model**\n",
    "$$Y_t=BK^\\alpha_tL^{1-\\alpha}_t, \\quad 0<\\alpha<1 \\tag{1}$$\n",
    "$$K_{t+1}=(1-\\delta)K_t+S_t, \\quad 0<\\delta<1 \\tag{2}$$\n",
    "$$S_t=sY_t, \\quad 0<s<1 \\tag{3}$$\n",
    "$$L_{t+1}=(1+n)L_t \\tag{4}$$\n",
    "$$r_t=\\alpha B\\left(\\frac{K_t}{L_t}\\right)^{\\alpha-1} \\tag{5}$$\n",
    "$$w_t=(1-\\alpha)B\\left(\\frac{K_t}{L_t}\\right)^\\alpha \\tag{6}$$\n",
    "\n",
    "\n",
    "Where $y_t\\equiv\\frac{Y_t}{L_t}$ and $k_t\\equiv\\frac{K_t}{L_t}$.\n"
   ]
  },
  {
   "cell_type": "markdown",
   "metadata": {},
   "source": [
    "## Analytical solution"
   ]
  },
  {
   "cell_type": "markdown",
   "metadata": {},
   "source": [
    "We start by using sympy to find an analytical expression for steady state in The Basic Solow Model. This means that we will solve:\n",
    "$$k^*=\\frac{1}{1+n}(sBk^{*\\alpha}+(1-{\\delta})k^*)$$\n",
    "$$y^*=B(k^*)^\\alpha$$"
   ]
  },
  {
   "cell_type": "code",
   "execution_count": 61,
   "metadata": {},
   "outputs": [],
   "source": [
    "#Define symbols\n",
    "kstar = sm.symbols('k^*')\n",
    "ystar = sm.symbols('y^*')\n",
    "n = sm.symbols('n')\n",
    "s = sm.symbols('s')\n",
    "B = sm.symbols('B')\n",
    "alpha = sm.symbols('alpha')\n",
    "delta = sm.symbols('delta')"
   ]
  },
  {
   "cell_type": "code",
   "execution_count": 62,
   "metadata": {},
   "outputs": [
    {
     "data": {
      "text/latex": [
       "$\\displaystyle k^{*} = \\left(\\frac{B s}{\\delta + n}\\right)^{- \\frac{1}{\\alpha - 1}}$"
      ],
      "text/plain": [
       "Eq(k^*, (B*s/(delta + n))**(-1/(alpha - 1)))"
      ]
     },
     "metadata": {},
     "output_type": "display_data"
    },
    {
     "data": {
      "text/latex": [
       "$\\displaystyle y^{*} = B \\left(\\left(\\frac{B s}{\\delta + n}\\right)^{- \\frac{1}{\\alpha - 1}}\\right)^{\\alpha}$"
      ],
      "text/plain": [
       "Eq(y^*, B*((B*s/(delta + n))**(-1/(alpha - 1)))**alpha)"
      ]
     },
     "metadata": {},
     "output_type": "display_data"
    }
   ],
   "source": [
    "#Find steady state for k\n",
    "ssk = sm.Eq(kstar,((s*B*kstar**alpha+(1-delta)*kstar)/(1+n)))\n",
    "ss_k = sm.solve(ssk,kstar)[0]\n",
    "s_s_k = sm.Eq(kstar,ss_k)\n",
    "\n",
    "#Find steady state for y\n",
    "ssy = sm.Eq(ystar,((B*ss_k**alpha)))\n",
    "ss_y = sm.solve(ssy,ystar)[0]\n",
    "s_s_y = sm.Eq(ystar,ss_y)\n",
    "\n",
    "#Show the results\n",
    "display(s_s_k)\n",
    "display(s_s_y)"
   ]
  },
  {
   "cell_type": "code",
   "execution_count": 63,
   "metadata": {},
   "outputs": [
    {
     "name": "stdout",
     "output_type": "stream",
     "text": [
      "Steady state value of capital: 4.829\n",
      "Steady state value of output: 1.690\n"
     ]
    }
   ],
   "source": [
    "#We will now turn our solution into a Python function\n",
    "ssk_func = sm.lambdify((B, s, delta, n, alpha), ss_k)\n",
    "\n",
    "ssy_func = sm.lambdify((B, s, delta, n, alpha), ss_y)\n",
    "\n",
    "#We will now evaluate the functions with specific parameters:\n",
    "ssk_value = ssk_func(1, 0.2, 0.05, 0.02, 1/3)\n",
    "\n",
    "ssy_value = ssy_func(1, 0.2, 0.05, 0.02, 1/3)\n",
    "\n",
    "# Print the values\n",
    "print('Steady state value of capital: {:.3f}'.format(ssk_value))\n",
    "print('Steady state value of output: {:.3f}'.format(ssy_value))"
   ]
  },
  {
   "cell_type": "markdown",
   "metadata": {},
   "source": [
    "## Numerical solution"
   ]
  },
  {
   "cell_type": "markdown",
   "metadata": {},
   "source": [
    "We will now find steadt state by the numerical solution of The Basic Solow Model. \n",
    "To do this, we start by defining the parameters. Then we find steady state for k and y using the root finding optimizer, optimize.root_scalar, where we use the method brentq. Brentq is in general considered as the best of the rootfinding methods. This is because that is is a method with a fast convergence speed and it is robust against different types of functions. "
   ]
  },
  {
   "cell_type": "code",
   "execution_count": 64,
   "metadata": {},
   "outputs": [
    {
     "name": "stdout",
     "output_type": "stream",
     "text": [
      "Steady state value of capital: 4.829\n",
      "Steady state value of output: 1.690\n"
     ]
    }
   ],
   "source": [
    "#The parameters\n",
    "B = 1\n",
    "s = 0.2\n",
    "delta = 0.05\n",
    "n = 0.02\n",
    "alpha = 1/3\n",
    "\n",
    "#Finding steady state with an optimizer for k\n",
    "solow_ss_k = lambda ss_k: ss_k - ((s*B*ss_k**alpha+(1-delta)*ss_k)/(1+n))\n",
    "result_k = optimize.root_scalar(solow_ss_k,bracket=[0.1,100],method='brentq')\n",
    "\n",
    "#Finding steady state with an optimizer for y\n",
    "solow_ss_y = lambda ss_y: ss_y - (B*result_k.root**alpha)\n",
    "result_y = optimize.root_scalar(solow_ss_y,bracket=[0.1,100],method='brentq')\n",
    "\n",
    "\n",
    "print('Steady state value of capital: {:.3f}'.format(result_k.root))\n",
    "print('Steady state value of output: {:.3f}'.format(result_y.root))\n",
    "\n"
   ]
  },
  {
   "cell_type": "markdown",
   "metadata": {},
   "source": [
    "As we can see, the numerical solution gives the same steady state values as the analytical solution. \n",
    "\n",
    "We will now make a Solow Diagram for The Basic Solow Model."
   ]
  },
  {
   "cell_type": "code",
   "execution_count": 65,
   "metadata": {},
   "outputs": [
    {
     "data": {
      "application/vnd.jupyter.widget-view+json": {
       "model_id": "0642ab370d514b869fbadf4cb03c4278",
       "version_major": 2,
       "version_minor": 0
      },
      "text/plain": [
       "interactive(children=(FloatSlider(value=0.02, description='n', max=0.1, min=0.01, step=0.005), FloatSlider(val…"
      ]
     },
     "metadata": {},
     "output_type": "display_data"
    }
   ],
   "source": [
    "#The parameters\n",
    "B = 1\n",
    "s = 0.2\n",
    "delta = 0.05\n",
    "n = 0.02\n",
    "alpha = 1/3\n",
    "\n",
    "def basic_solow_diagram(k: int, n: float, s: float, B: int, alpha: float, delta: float, kmax: int, kline: float):\n",
    "    # Definition of the values of k, the growth rate of k and the diagonal line\n",
    "    k_values = np.linspace(0, kmax, 100)\n",
    "    k_growth = s * B * k_values**alpha\n",
    "    diagonal = (n + delta) * k_values\n",
    "\n",
    "    #  Calculation of steady state for capital per capita\n",
    "    k_star = ((B*s)/(n+delta))**(-1/(alpha-1))\n",
    "\n",
    "    # The figure size and the two graphs\n",
    "    plt.figure(figsize=(8, 5))\n",
    "    plt.plot(k_values, diagonal, label=r'$(n+\\delta)k_t$', color='black')\n",
    "    plt.plot(k_values, k_growth, label=r'$y_t = sBk_t^{\\alpha}$', color='mediumorchid')\n",
    "\n",
    "    #The steady state point, the starting point and the labels:\n",
    "    plt.axvline(x=kline, linestyle='--', color='royalblue', label=r'$k_0$')\n",
    "    plt.axvline(x=k_star, linestyle='--', color='gold', label=r'$k*$')\n",
    "    plt.xlim(0, kmax)\n",
    "    plt.xlabel('$k_t$')\n",
    "    plt.ylabel('$k_{t+1}$')\n",
    "    plt.legend()\n",
    "    plt.title('The Basic Solow Diagram')\n",
    "    plt.grid(True)\n",
    "    \n",
    "# Creating the interactive plot\n",
    "interact(basic_solow_diagram,\n",
    "    k=widgets.fixed(0),\n",
    "    alpha=widgets.FloatSlider(description=r'α', min=0, max=0.9, step=0.05, value=1/3),\n",
    "    delta=widgets.FloatSlider(description=r'δ', min=0, max=0.1, step=0.01, value=0.05),\n",
    "    s=widgets.FloatSlider(description='s', min=0.01, max=0.8, step=0.05, value=0.2),\n",
    "    n=widgets.FloatSlider(description='n', min=0.01, max=0.1, step=0.005, value=0.02),\n",
    "    B=widgets.fixed(1),\n",
    "    kmax=widgets.IntSlider(description='x axis', min=1, max=30, step=10, value=100),\n",
    "    kline=widgets.FloatSlider(description='k_0', min=0, max=100, step=0.1, value=20))\n",
    "\n",
    "# Showing plot\n",
    "plt.show(basic_solow_diagram)"
   ]
  },
  {
   "cell_type": "markdown",
   "metadata": {},
   "source": [
    "In the basic Solow diagram above, it can be seen that there is convergens to steady state no matter the starting point. If $k_0$ is smaller than $k^*$, then it will increase until it reaches $k^*$. In the same way, if $k_0$ is larger than $k^*$, then it will decrease until it reaches $k^*$. In that way there will always be convergens until steady state, $k^*$.\n",
    "It can be seen in the figure, that when the population growth, n, increases, then the steady state moves towards the lower left corner. Furthermore, it can be seen that when the savings, s, increases steady state will move against the upper right corner. "
   ]
  },
  {
   "cell_type": "markdown",
   "metadata": {},
   "source": [
    "# Solow Model with technological growth"
   ]
  },
  {
   "cell_type": "markdown",
   "metadata": {},
   "source": [
    "We will now do an extension of the Basic Solow Model where we include the tecnological growthrate. A problem with the Basic Solow Model is that is no positive growth in the long run, due to diminishing marginal product w.r.t. capital. This does not fit well with empirical evidence from Western countries. By including technological growth the model will be more close to reality. \n",
    "\n",
    "**The equations for The Solow Model with harrod-neutral technological growth**\n",
    "$$Y_t=K^\\alpha_t(A_tL_t)^{1-\\alpha}, \\quad 0<\\alpha<1 \\tag{1}$$\n",
    "$$K_{t+1}=(1-\\delta)K_t+S_t, \\quad 0<\\delta<1 \\tag{2}$$\n",
    "$$S_t=sY_t, \\quad 0<s<1 \\tag{3}$$\n",
    "$$L_{t+1}=(1+n)L_t \\tag{4}$$\n",
    "$$A_{t+1}=(1+g)A_t \\tag{5}$$\n",
    "$$r_t=\\alpha B\\left(\\frac{K_t}{L_t}\\right)^{\\alpha-1} \\tag{6}$$\n",
    "$$w_t=(1-\\alpha)B\\left(\\frac{K_t}{L_t}\\right)^\\alpha \\tag{7}$$\n",
    "\n",
    "\n",
    "Where $y_t\\equiv\\frac{Y_t}{L_t}$ and $k_t\\equiv\\frac{K_t}{L_t}$."
   ]
  },
  {
   "cell_type": "markdown",
   "metadata": {},
   "source": [
    " We start by using sympy to find an analytical expression for steady state in The Solow Model with technological growth. This means that we will solve:\n",
    "$$\\tilde k^*=\\frac{1}{(1+n)(1+g)}(s (\\tilde k^*)^\\alpha+(1-{\\delta})\\tilde k^*)$$\n",
    "$$\\tilde y^*=(\\tilde k^*)^\\alpha$$"
   ]
  },
  {
   "cell_type": "code",
   "execution_count": 66,
   "metadata": {},
   "outputs": [],
   "source": [
    "#Define symbols\n",
    "kstar = sm.symbols('k^*')\n",
    "ystar = sm.symbols('y^*')\n",
    "n = sm.symbols('n')\n",
    "s = sm.symbols('s')\n",
    "g = sm.symbols('g')\n",
    "alpha = sm.symbols('alpha')\n",
    "delta = sm.symbols('delta')"
   ]
  },
  {
   "cell_type": "code",
   "execution_count": 67,
   "metadata": {},
   "outputs": [
    {
     "data": {
      "text/latex": [
       "$\\displaystyle k^{*} = \\left(\\frac{\\delta + g n + g + n}{s}\\right)^{\\frac{1}{\\alpha - 1}}$"
      ],
      "text/plain": [
       "Eq(k^*, ((delta + g*n + g + n)/s)**(1/(alpha - 1)))"
      ]
     },
     "metadata": {},
     "output_type": "display_data"
    },
    {
     "data": {
      "text/latex": [
       "$\\displaystyle y^{*} = \\left(\\left(\\frac{\\delta + g n + g + n}{s}\\right)^{\\frac{1}{\\alpha - 1}}\\right)^{\\alpha}$"
      ],
      "text/plain": [
       "Eq(y^*, (((delta + g*n + g + n)/s)**(1/(alpha - 1)))**alpha)"
      ]
     },
     "metadata": {},
     "output_type": "display_data"
    }
   ],
   "source": [
    "#Find steady state for k\n",
    "ssk_t = sm.Eq(kstar,((s*kstar**alpha+(1-delta)*kstar)/((1+n)*(1+g))))\n",
    "ss_k_t = sm.solve(ssk_t,kstar)[0]\n",
    "s_s_k_t = sm.Eq(kstar,ss_k_t)\n",
    "\n",
    "#Find steady state for y\n",
    "ssy_t = sm.Eq(ystar,((ss_k_t**alpha)))\n",
    "ss_y_t = sm.solve(ssy_t,ystar)[0]\n",
    "s_s_y_t = sm.Eq(ystar,ss_y_t)\n",
    "\n",
    "#Show the results\n",
    "display(s_s_k_t)\n",
    "display(s_s_y_t)"
   ]
  },
  {
   "cell_type": "code",
   "execution_count": 68,
   "metadata": {},
   "outputs": [
    {
     "name": "stdout",
     "output_type": "stream",
     "text": [
      "Steady state value of capital: 3.291\n",
      "Steady state value of output: 1.487\n"
     ]
    }
   ],
   "source": [
    "#We will now turn our solution into a Python function\n",
    "ssk_func_t = sm.lambdify((g, s, delta, n, alpha), ss_k_t)\n",
    "\n",
    "ssy_func_t = sm.lambdify((g, s, delta, n, alpha), ss_y_t)\n",
    "\n",
    "#We will now evaluate the functions with specific parameters:\n",
    "ssk_value_t = ssk_func_t(0.02, 0.2, 0.05, 0.02, 1/3)\n",
    "\n",
    "ssy_value_t = ssy_func_t(0.02, 0.2, 0.05, 0.02, 1/3)\n",
    "\n",
    "# Print the values\n",
    "print('Steady state value of capital: {:.3f}'.format(ssk_value_t))\n",
    "print('Steady state value of output: {:.3f}'.format(ssy_value_t))"
   ]
  },
  {
   "cell_type": "markdown",
   "metadata": {},
   "source": [
    "We will now find the steady state by the numerical solution of The Solow Model with technological growth. We will use the same method as we did for The Basic Solow Model above."
   ]
  },
  {
   "cell_type": "code",
   "execution_count": 69,
   "metadata": {},
   "outputs": [
    {
     "name": "stdout",
     "output_type": "stream",
     "text": [
      "Steady state value of capital: 3.291\n",
      "Steady state value of output: 1.487\n"
     ]
    }
   ],
   "source": [
    "#The parameters\n",
    "g = 0.02\n",
    "s = 0.2\n",
    "delta = 0.05\n",
    "n = 0.02\n",
    "alpha = 1/3\n",
    "\n",
    "#Finding steady state with an optimizer for k\n",
    "solow_ss_k_t = lambda ss_k_t: ss_k_t - ((s*ss_k_t**alpha+(1-delta)*ss_k_t)/((1+n)*(1+g)))\n",
    "result_k_t = optimize.root_scalar(solow_ss_k_t,bracket=[0.1,100],method='brentq')\n",
    "\n",
    "#Finding steady state with an optimizer for y\n",
    "solow_ss_y_t = lambda ss_y_t: ss_y_t - (result_k_t.root**alpha)\n",
    "result_y_t = optimize.root_scalar(solow_ss_y_t,bracket=[0.1,100],method='brentq')\n",
    "\n",
    "\n",
    "print('Steady state value of capital: {:.3f}'.format(result_k_t.root))\n",
    "print('Steady state value of output: {:.3f}'.format(result_y_t.root))"
   ]
  },
  {
   "cell_type": "code",
   "execution_count": 70,
   "metadata": {},
   "outputs": [
    {
     "data": {
      "application/vnd.jupyter.widget-view+json": {
       "model_id": "4df046a8a4184732a0eecac0d6bf73cc",
       "version_major": 2,
       "version_minor": 0
      },
      "text/plain": [
       "interactive(children=(FloatSlider(value=0.02, description='n', max=0.1, min=0.01, step=0.005), FloatSlider(val…"
      ]
     },
     "metadata": {},
     "output_type": "display_data"
    }
   ],
   "source": [
    "#The parameters\n",
    "g = 0.02\n",
    "s = 0.2\n",
    "delta = 0.05\n",
    "n = 0.02\n",
    "alpha = 1/3\n",
    "\n",
    "def solow_diagram_t(k: int, n: float, s: float, g: float, alpha: float, delta: float, kmax_t: int, kline_t: float):\n",
    "    # Definition of the values of k, the growth rate of k and the diagonal line\n",
    "    k_values_t = np.linspace(0, kmax_t, 1000)\n",
    "    k_growth_t = s * k_values_t**alpha\n",
    "    diagonal_t = (n + g + delta + n*g) * k_values_t\n",
    "\n",
    "    #  Calculation of steady state for capital per capita\n",
    "    k_star_t = ((delta+g*n+g+n)/(s))**(1/(alpha-1))\n",
    "\n",
    "    # The figure size and the two graphs\n",
    "    plt.figure(figsize=(8, 5))\n",
    "    plt.plot(k_values_t, diagonal_t, label=r'$(\\delta+g*n+g+n)k_t$', color='black')\n",
    "    plt.plot(k_values_t, k_growth_t, label=r'$y_t = sk_t^{\\alpha}$', color='mediumorchid')\n",
    "\n",
    "    #The steady state point, the starting point and the labels:\n",
    "    plt.axvline(x=kline_t, linestyle='--', color='royalblue', label=r'$k_0$')\n",
    "    plt.axvline(x=k_star_t, linestyle='--', color='gold', label=r'$k*$')\n",
    "    plt.xlim(0, kmax_t)\n",
    "    plt.xlabel('$\\~{k}_t$')\n",
    "    plt.ylabel('$\\~{k}_{t+1}$')\n",
    "    plt.legend()\n",
    "    plt.title('The Solow Diagram with technological growth')\n",
    "    plt.grid(True)\n",
    "    \n",
    "# Creating the interactive plot\n",
    "interact(solow_diagram_t,\n",
    "    k=widgets.fixed(0),\n",
    "    alpha=widgets.FloatSlider(description=r'α', min=0, max=0.9, step=0.05, value=1/3),\n",
    "    delta=widgets.FloatSlider(description=r'δ', min=0, max=0.1, step=0.01, value=0.05),\n",
    "    s=widgets.FloatSlider(description='s', min=0.01, max=0.8, step=0.05, value=0.2),\n",
    "    n=widgets.FloatSlider(description='n', min=0.01, max=0.1, step=0.005, value=0.02),\n",
    "    g=widgets.FloatSlider(description='g', min=0, max=0.8, step=0.002, value=0.02),\n",
    "    kmax_t=widgets.IntSlider(description='x axis', min=1, max=30, step=10, value=100),\n",
    "    kline_t=widgets.FloatSlider(description='k_0', min=0, max=100, step=0.1, value=20))\n",
    "\n",
    "# Showing plot\n",
    "plt.show(solow_diagram_t)"
   ]
  },
  {
   "cell_type": "markdown",
   "metadata": {},
   "source": [
    "When the technological growth increases the steady state moves towards the lower left corner. "
   ]
  },
  {
   "cell_type": "markdown",
   "metadata": {},
   "source": [
    "# Shock to the saving rate"
   ]
  },
  {
   "cell_type": "markdown",
   "metadata": {},
   "source": [
    "We will now consider a permanent shock to the saving rate, s, in The Solow Model with technological growth. A permanent shock to the saving rate will male an shift upwards in the curve. This can be seen, when we look at the equation for the curve:\n",
    "$$y_t=sk_t^\\alpha$$\n",
    "In the figure below the change in the Solow Diagram with technological growth can be seen."
   ]
  },
  {
   "cell_type": "code",
   "execution_count": 90,
   "metadata": {},
   "outputs": [
    {
     "data": {
      "image/png": "[encoded data removed]",
      "text/plain": [
       "<Figure size 800x500 with 1 Axes>"
      ]
     },
     "metadata": {},
     "output_type": "display_data"
    }
   ],
   "source": [
    "g = 0.02\n",
    "delta = 0.05\n",
    "n = 0.02\n",
    "alpha = 1/3\n",
    "\n",
    "def solow_diagram_s(kmax_s: int, kline_s: float, s_values: list):\n",
    "    # Definition of the values of k and the diagonal line\n",
    "    k_values_s = np.linspace(0, kmax_s, 1000)\n",
    "    diagonal_s = (n + g + delta + n*g) * k_values_s\n",
    "\n",
    "    # The figure size and the graph\n",
    "    plt.figure(figsize=(8, 5))\n",
    "    plt.plot(k_values_s, diagonal_s, label=r'$(\\delta+g*n+g+n)k_t$', color='black')\n",
    "\n",
    "    # Plotting for each value of s\n",
    "    for s in s_values:\n",
    "        k_growth_s = s * k_values_s**alpha\n",
    "        plt.plot(k_values_s, k_growth_s, label=f'$s={s}$')\n",
    "\n",
    "    # Finding intersection points\n",
    "    intersection_points = []\n",
    "    for s in s_values:\n",
    "        k_growth_s = s * k_values_s**alpha\n",
    "        intersection_point = np.argwhere(np.diff(np.sign(k_growth_s - diagonal_s))).flatten()\n",
    "        intersection_points.append((k_values_s[intersection_point], k_growth_s[intersection_point]))\n",
    "    \n",
    "    # Plotting dotted lines where the diagonal line and the curves intersect each other\n",
    "    for point in intersection_points:\n",
    "        x = point[0]\n",
    "        y = point[1]\n",
    "        plt.vlines(x, 0, y, colors='r', linestyles='--', lw=1)  \n",
    "\n",
    "    # Figure details\n",
    "    plt.xlim(0, kmax_s)\n",
    "    plt.ylim(0, None)\n",
    "    plt.xlabel('$\\~{k}_t$')\n",
    "    plt.ylabel('$\\~{k}_{t+1}$')\n",
    "    plt.legend()\n",
    "    plt.title('The Solow Diagram with technological growth')\n",
    "    plt.grid(True)\n",
    "    plt.show()\n",
    "\n",
    "# Showing plot with two different values of s\n",
    "solow_diagram_s(kmax_s=10, kline_s=5, s_values=[0.2, 0.4])"
   ]
  },
  {
   "cell_type": "markdown",
   "metadata": {},
   "source": [
    "In the figure above we have considered a situation where the saving rate, s, increases from 0.2 to 0.4. This makes a shift upwards in the curve. Th mechanism behind this is that a higher saving rate means that a larger proportion of the income will be saved. This means that savings will exceed population growth, and thus capital intensity and GDP per capita will increase until the new steady state is reached."
   ]
  },
  {
   "cell_type": "markdown",
   "metadata": {},
   "source": [
    "# Conclusion"
   ]
  },
  {
   "cell_type": "markdown",
   "metadata": {},
   "source": [
    "Add concise conclusion. "
   ]
  }
 ],
 "metadata": {
  "kernelspec": {
   "display_name": "base",
   "language": "python",
   "name": "python3"
  },
  "language_info": {
   "codemirror_mode": {
    "name": "ipython",
    "version": 3
   },
   "file_extension": ".py",
   "mimetype": "text/x-python",
   "name": "python",
   "nbconvert_exporter": "python",
   "pygments_lexer": "ipython3",
   "version": "3.11.7"
  },
  "toc-autonumbering": true,
  "vscode": {
   "interpreter": {
    "hash": "47ef90cdf3004d3f859f1fb202523c65c07ba7c22eefd261b181f4744e2d0403"
   }
  }
 },
 "nbformat": 4,
 "nbformat_minor": 4
}
