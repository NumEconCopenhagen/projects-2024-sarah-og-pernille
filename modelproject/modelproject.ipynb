{
 "cells": [
  {
   "cell_type": "markdown",
   "metadata": {},
   "source": [
    "# YOUR PROJECT TITLE"
   ]
  },
  {
   "attachments": {},
   "cell_type": "markdown",
   "metadata": {},
   "source": [
    "> **Note the following:** \n",
    "> 1. This is *not* meant to be an example of an actual **model analysis project**, just an example of how to structure such a project.\n",
    "> 1. Remember the general advice on structuring and commenting your code\n",
    "> 1. The `modelproject.py` file includes a function which could be used multiple times in this notebook."
   ]
  },
  {
   "cell_type": "markdown",
   "metadata": {},
   "source": [
    "Imports and set magics:"
   ]
  },
  {
   "cell_type": "code",
   "execution_count": 1,
   "metadata": {},
   "outputs": [],
   "source": [
    "import numpy as np\n",
    "from scipy import optimize\n",
    "import sympy as sm\n",
    "\n",
    "# autoreload modules when code is run\n",
    "%load_ext autoreload\n",
    "%autoreload 2\n",
    "\n",
    "# local modules\n",
    "import modelproject"
   ]
  },
  {
   "cell_type": "markdown",
   "metadata": {},
   "source": [
    "# Model description"
   ]
  },
  {
   "cell_type": "markdown",
   "metadata": {},
   "source": [
    "In this project we will investigate the AS-AD model. This model is used to analyze the interaction between the aggregate demand for goods and services and the aggregate supply of goods and services in an economy. TILFØJ HVILKE STØD VI KIGGER PÅ OG RYK OP UNDER TITLEN.\n",
    "\n",
    "**The AD-curve:**\n",
    "$$y_{t}-\\bar{y}=-\\alpha(\\pi_{t}-\\pi^{\\ast})+z_{t}$$ \n",
    "\n",
    "Where:\n",
    "$$z_t=\\frac{\\alpha_1}{1+\\alpha_2b}(g-\\bar{g})$$\n",
    "$$\\alpha=\\frac{\\alpha_2h}{1+\\alpha_2b}$$\n",
    "\n",
    "The AD-curve is the aggregated demand curve in the economy.\n",
    "\n",
    "**The short-run AS-curve:**\n",
    "$$\\pi_{t}=\\pi^e_t+\\gamma(y_{t}-\\bar{y_{t}})+s_{t}$$ \n",
    "\n",
    "This is the short-run aggregated supply curve in the economy.\n",
    "\n",
    "**The long-run AS-curve:**\n",
    "$$y_{t}=\\bar{y}$$\n",
    "\n",
    "This is the long-run aggregated supply curve in the economy.\n",
    "\n",
    "**Fisher equation:**\n",
    "$$r=i-\\pi^e_{t+1}$$\n",
    "\n",
    "The fisher equation states that the real interest rate is given by the nominal interest rate minus the expected inflation. It is thus an expression of the expected real interest rate.\n",
    "\n",
    "**Inflation expectations:**\n",
    "$$\\pi^e_t=\\pi_{t-1}$$\n",
    "\n",
    "Here the agents in the economy are assumed to have static inflation expectation, setting their inflation expectation in the current period equal to the actual observed inflation in the last period."
   ]
  },
  {
   "cell_type": "markdown",
   "metadata": {},
   "source": [
    "## Analytical solution"
   ]
  },
  {
   "cell_type": "markdown",
   "metadata": {},
   "source": [
    "If your model allows for an analytical solution, you should provide here.\n",
    "\n",
    "You may use Sympy for this. Then you can characterize the solution as a function of a parameter of the model.\n",
    "\n",
    "To characterize the solution, first derive a steady state equation as a function of a parameter using Sympy.solve and then turn it into a python function by Sympy.lambdify. See the lecture notes for details. "
   ]
  },
  {
   "cell_type": "markdown",
   "metadata": {},
   "source": [
    "## Numerical solution"
   ]
  },
  {
   "cell_type": "markdown",
   "metadata": {},
   "source": [
    "You can always solve a model numerically. \n",
    "\n",
    "Define first the set of parameters you need. \n",
    "\n",
    "Then choose one of the optimization algorithms that we have gone through in the lectures based on what you think is most fitting for your model.\n",
    "\n",
    "Are there any problems with convergence? Does the model converge for all starting values? Make a lot of testing to figure these things out. "
   ]
  },
  {
   "cell_type": "markdown",
   "metadata": {},
   "source": [
    "# Further analysis"
   ]
  },
  {
   "cell_type": "markdown",
   "metadata": {},
   "source": [
    "LAV NOGET MED MIDLERTIDIGE STØD OG HVORDAN VENDER TILBAGE TIL STEADY STATE"
   ]
  },
  {
   "cell_type": "markdown",
   "metadata": {},
   "source": [
    "Make detailed vizualizations of how your model changes with parameter values. \n",
    "\n",
    "Try to make an extension of the model. "
   ]
  },
  {
   "cell_type": "markdown",
   "metadata": {},
   "source": [
    "# Conclusion"
   ]
  },
  {
   "cell_type": "markdown",
   "metadata": {},
   "source": [
    "Add concise conclusion. "
   ]
  }
 ],
 "metadata": {
  "kernelspec": {
   "display_name": "base",
   "language": "python",
   "name": "python3"
  },
  "language_info": {
   "codemirror_mode": {
    "name": "ipython",
    "version": 3
   },
   "file_extension": ".py",
   "mimetype": "text/x-python",
   "name": "python",
   "nbconvert_exporter": "python",
   "pygments_lexer": "ipython3",
   "version": "3.11.7"
  },
  "toc-autonumbering": true,
  "vscode": {
   "interpreter": {
    "hash": "47ef90cdf3004d3f859f1fb202523c65c07ba7c22eefd261b181f4744e2d0403"
   }
  }
 },
 "nbformat": 4,
 "nbformat_minor": 4
}
