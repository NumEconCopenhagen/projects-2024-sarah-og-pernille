{
 "cells": [
  {
   "cell_type": "markdown",
   "metadata": {},
   "source": [
    "# The Basic Solow Model and an extension"
   ]
  },
  {
   "cell_type": "markdown",
   "metadata": {},
   "source": [
    "In this project we will analyse The Basic Solow Model and make an extension with technological growth. We include technological growth because there is no growth in the long run in The Basic Solow Model. This is due to the diminishing marginal product w.r.t. capital.  Technological growth will make the Solow Model closer to reality. In the end we will consider a permanent shock to the saving rate in the extended Solow Model. "
   ]
  },
  {
   "cell_type": "markdown",
   "metadata": {},
   "source": [
    "We import and set magics:"
   ]
  },
  {
   "cell_type": "code",
   "execution_count": 197,
   "metadata": {},
   "outputs": [
    {
     "name": "stdout",
     "output_type": "stream",
     "text": [
      "The autoreload extension is already loaded. To reload it, use:\n",
      "  %reload_ext autoreload\n"
     ]
    }
   ],
   "source": [
    "import numpy as np\n",
    "import matplotlib.pyplot as plt\n",
    "from scipy import optimize\n",
    "import sympy as sm\n",
    "from ipywidgets import interact, widgets\n",
    "\n",
    "# autoreload modules when code is run\n",
    "%load_ext autoreload\n",
    "%autoreload 2\n",
    "\n",
    "from modelproject import SolowModelTech\n",
    "from modelproject import SolowModel"
   ]
  },
  {
   "cell_type": "markdown",
   "metadata": {},
   "source": [
    "# The Basic Solow Model"
   ]
  },
  {
   "cell_type": "markdown",
   "metadata": {},
   "source": [
    "The Basic Solow Model is an exogenous model for a closed economy. The production is determined by two factors in the supply side: physical capital, K, and labor, L. Physical capital is things like machines, factories, buildings and so on, where the labor is the population in the society. Capital and labor accumulate over time. The production can either be consumed today or invested in machines which will increase the production tomorrow. \n",
    "\n",
    "**The equations for The Basic Solow Model**\n",
    "$$Y_t=BK^\\alpha_tL^{1-\\alpha}_t, \\quad 0<\\alpha<1 \\tag{1}$$\n",
    "$$K_{t+1}=(1-\\delta)K_t+S_t, \\quad 0<\\delta<1 \\tag{2}$$\n",
    "$$S_t=sY_t, \\quad 0<s<1 \\tag{3}$$\n",
    "$$L_{t+1}=(1+n)L_t \\tag{4}$$\n",
    "$$r_t=\\alpha B\\left(\\frac{K_t}{L_t}\\right)^{\\alpha-1} \\tag{5}$$\n",
    "$$w_t=(1-\\alpha)B\\left(\\frac{K_t}{L_t}\\right)^\\alpha \\tag{6}$$\n",
    "\n",
    "\n",
    "Where $y_t\\equiv\\frac{Y_t}{L_t}$ and $k_t\\equiv\\frac{K_t}{L_t}$.\n"
   ]
  },
  {
   "cell_type": "markdown",
   "metadata": {},
   "source": [
    "## Analytical solution"
   ]
  },
  {
   "cell_type": "markdown",
   "metadata": {},
   "source": [
    "We start by using sympy to find an analytical expression for steady state in The Basic Solow Model. This means that we will solve:\n",
    "$$k^*=\\frac{1}{1+n}(sBk^{*\\alpha}+(1-{\\delta})k^*)$$\n",
    "$$y^*=B(k^*)^\\alpha$$"
   ]
  },
  {
   "cell_type": "code",
   "execution_count": 198,
   "metadata": {},
   "outputs": [],
   "source": [
    "#Define symbols\n",
    "kstar = sm.symbols('k^*')\n",
    "ystar = sm.symbols('y^*')\n",
    "n = sm.symbols('n')\n",
    "s = sm.symbols('s')\n",
    "B = sm.symbols('B')\n",
    "alpha = sm.symbols('alpha')\n",
    "delta = sm.symbols('delta')"
   ]
  },
  {
   "cell_type": "code",
   "execution_count": 199,
   "metadata": {},
   "outputs": [
    {
     "data": {
      "text/latex": [
       "$\\displaystyle k^{*} = \\left(\\frac{B s}{\\delta + n}\\right)^{- \\frac{1}{\\alpha - 1}}$"
      ],
      "text/plain": [
       "Eq(k^*, (B*s/(delta + n))**(-1/(alpha - 1)))"
      ]
     },
     "metadata": {},
     "output_type": "display_data"
    },
    {
     "data": {
      "text/latex": [
       "$\\displaystyle y^{*} = B \\left(\\left(\\frac{B s}{\\delta + n}\\right)^{- \\frac{1}{\\alpha - 1}}\\right)^{\\alpha}$"
      ],
      "text/plain": [
       "Eq(y^*, B*((B*s/(delta + n))**(-1/(alpha - 1)))**alpha)"
      ]
     },
     "metadata": {},
     "output_type": "display_data"
    }
   ],
   "source": [
    "#Find steady state for k\n",
    "ssk = sm.Eq(kstar,((s*B*kstar**alpha+(1-delta)*kstar)/(1+n)))\n",
    "ss_k = sm.solve(ssk,kstar)[0]\n",
    "s_s_k = sm.Eq(kstar,ss_k)\n",
    "\n",
    "#Find steady state for y\n",
    "ssy = sm.Eq(ystar,((B*ss_k**alpha)))\n",
    "ss_y = sm.solve(ssy,ystar)[0]\n",
    "s_s_y = sm.Eq(ystar,ss_y)\n",
    "\n",
    "#Show the results\n",
    "display(s_s_k)\n",
    "display(s_s_y)"
   ]
  },
  {
   "cell_type": "code",
   "execution_count": 200,
   "metadata": {},
   "outputs": [
    {
     "name": "stdout",
     "output_type": "stream",
     "text": [
      "Steady state value of capital: 4.829\n",
      "Steady state value of output: 1.690\n"
     ]
    }
   ],
   "source": [
    "#We will now turn our solution into a Python function\n",
    "ssk_func = sm.lambdify((B, s, delta, n, alpha), ss_k)\n",
    "\n",
    "ssy_func = sm.lambdify((B, s, delta, n, alpha), ss_y)\n",
    "\n",
    "#We will now evaluate the functions with specific parameters:\n",
    "ssk_value = ssk_func(1, 0.2, 0.05, 0.02, 1/3)\n",
    "\n",
    "ssy_value = ssy_func(1, 0.2, 0.05, 0.02, 1/3)\n",
    "\n",
    "# Print the values\n",
    "print('Steady state value of capital: {:.3f}'.format(ssk_value))\n",
    "print('Steady state value of output: {:.3f}'.format(ssy_value))"
   ]
  },
  {
   "cell_type": "markdown",
   "metadata": {},
   "source": [
    "## Numerical solution"
   ]
  },
  {
   "cell_type": "markdown",
   "metadata": {},
   "source": [
    "We will now find steady state by the numerical solution of The Basic Solow Model. \n",
    "To do this, we start by defining the parameters. Then we find steady state for k and y using the root finding optimizer, optimize.root_scalar, where we use the method brentq. Brentq is in general considered as the best of the rootfinding methods. This is because that is is a method with a fast convergence speed and it is robust against different types of functions. "
   ]
  },
  {
   "cell_type": "code",
   "execution_count": 214,
   "metadata": {},
   "outputs": [
    {
     "name": "stdout",
     "output_type": "stream",
     "text": [
      "      converged: True\n",
      "           flag: converged\n",
      " function_calls: 11\n",
      "     iterations: 10\n",
      "           root: 4.829452884162825\n",
      "      converged: True\n",
      "           flag: converged\n",
      " function_calls: 3\n",
      "     iterations: 2\n",
      "           root: 1.6903085094570183\n",
      "Steady state value of capital: 4.829\n",
      "Steady state value of output: 1.690\n"
     ]
    }
   ],
   "source": [
    "#The parameters\n",
    "B = 1\n",
    "s = 0.2\n",
    "delta = 0.05\n",
    "n = 0.02\n",
    "alpha = 1/3\n",
    "\n",
    "solow_optimizer = SolowModel(s, delta, n, B, alpha)\n",
    "\n",
    "steady_state_k = solow_optimizer.steady_state_capital()\n",
    "steady_state_y = solow_optimizer.steady_state_output(steady_state_k)\n",
    "\n",
    "print('Steady state value of capital: {:.3f}'.format(steady_state_k))\n",
    "print('Steady state value of output: {:.3f}'.format(steady_state_y))\n"
   ]
  },
  {
   "cell_type": "code",
   "execution_count": 215,
   "metadata": {},
   "outputs": [
    {
     "name": "stdout",
     "output_type": "stream",
     "text": [
      "      converged: True\n",
      "           flag: converged\n",
      " function_calls: 48\n",
      "     iterations: 46\n",
      "           root: 4.829452884163196\n",
      "      converged: True\n",
      "           flag: converged\n",
      " function_calls: 48\n",
      "     iterations: 46\n",
      "           root: 1.6903085094578514\n",
      "Steady state value of capital: 4.829\n",
      "Steady state value of output: 1.690\n"
     ]
    }
   ],
   "source": [
    "#The parameters\n",
    "B = 1\n",
    "s = 0.2\n",
    "delta = 0.05\n",
    "n = 0.02\n",
    "alpha = 1/3\n",
    "\n",
    "solow_optimizer_bisect= SolowModel(s, delta, n, B, alpha)\n",
    "steady_state_k_bisect = solow_optimizer_bisect.steady_state_capital_bisect()\n",
    "steady_state_y_bisect = solow_optimizer_bisect.steady_state_output_bisect(steady_state_k_bisect)\n",
    "\n",
    "print('Steady state value of capital: {:.3f}'.format(steady_state_k_bisect))\n",
    "print('Steady state value of output: {:.3f}'.format(steady_state_y_bisect))\n"
   ]
  },
  {
   "cell_type": "markdown",
   "metadata": {},
   "source": [
    "As we can see, the numerical solution gives the same steady state values as the analytical solution. \n",
    "\n",
    "We will now make an interactive Solow Diagram for The Basic Solow Model."
   ]
  },
  {
   "cell_type": "code",
   "execution_count": 203,
   "metadata": {},
   "outputs": [
    {
     "data": {
      "application/vnd.jupyter.widget-view+json": {
       "model_id": "165a8c95ad154e0ebaf64f0bb06e77ba",
       "version_major": 2,
       "version_minor": 0
      },
      "text/plain": [
       "interactive(children=(FloatSlider(value=0.02, description='n', max=0.1, min=0.01, step=0.005), FloatSlider(val…"
      ]
     },
     "metadata": {},
     "output_type": "display_data"
    }
   ],
   "source": [
    "# Interactive plot\n",
    "solow_optimizer.interactive_plot_basic()"
   ]
  },
  {
   "cell_type": "markdown",
   "metadata": {},
   "source": [
    "In the basic Solow Diagram above, it can be seen that there is convergens to steady state no matter the starting point. If $k_0$ is smaller than $k^*$, then it will increase until it reaches $k^*$. In the same way, if $k_0$ is larger than $k^*$, then it will decrease until it reaches $k^*$. In that way there will always be convergens until steady state, $k^*$.\n",
    "It can be seen in the figure, that when the population growth, n, increases, then the steady state moves towards the lower left corner. Furthermore, it can be seen that when the savings, s, increases steady state will move against the upper right corner. "
   ]
  },
  {
   "cell_type": "markdown",
   "metadata": {},
   "source": [
    "# Solow Model with technological growth"
   ]
  },
  {
   "cell_type": "markdown",
   "metadata": {},
   "source": [
    "We will now do an extension of the Basic Solow Model where we include the tecnological growthrate. A problem with the Basic Solow Model is that is no positive growth in the long run, due to diminishing marginal product w.r.t. capital. This does not fit well with empirical evidence from Western countries. By including technological growth the model will be more close to reality. \n",
    "\n",
    "**The equations for The Solow Model with harrod-neutral technological growth**\n",
    "$$Y_t=K^\\alpha_t(A_tL_t)^{1-\\alpha}, \\quad 0<\\alpha<1 \\tag{1}$$\n",
    "$$K_{t+1}=(1-\\delta)K_t+S_t, \\quad 0<\\delta<1 \\tag{2}$$\n",
    "$$S_t=sY_t, \\quad 0<s<1 \\tag{3}$$\n",
    "$$L_{t+1}=(1+n)L_t \\tag{4}$$\n",
    "$$A_{t+1}=(1+g)A_t \\tag{5}$$\n",
    "$$r_t=\\alpha B\\left(\\frac{K_t}{L_t}\\right)^{\\alpha-1} \\tag{6}$$\n",
    "$$w_t=(1-\\alpha)B\\left(\\frac{K_t}{L_t}\\right)^\\alpha \\tag{7}$$\n",
    "\n",
    "\n",
    "Where $y_t\\equiv\\frac{Y_t}{L_t}$ and $k_t\\equiv\\frac{K_t}{L_t}$."
   ]
  },
  {
   "cell_type": "markdown",
   "metadata": {},
   "source": [
    " We start by using sympy to find an analytical expression for steady state in The Solow Model with technological growth. This means that we will solve:\n",
    "$$\\tilde k^*=\\frac{1}{(1+n)(1+g)}(s (\\tilde k^*)^\\alpha+(1-{\\delta})\\tilde k^*)$$\n",
    "$$\\tilde y^*=(\\tilde k^*)^\\alpha$$"
   ]
  },
  {
   "cell_type": "code",
   "execution_count": 204,
   "metadata": {},
   "outputs": [],
   "source": [
    "#Define symbols\n",
    "kstar = sm.symbols('\\~{k}^*')\n",
    "ystar = sm.symbols('\\~{y}^*')\n",
    "n = sm.symbols('n')\n",
    "s = sm.symbols('s')\n",
    "g = sm.symbols('g')\n",
    "alpha = sm.symbols('alpha')\n",
    "delta = sm.symbols('delta')"
   ]
  },
  {
   "cell_type": "code",
   "execution_count": 205,
   "metadata": {},
   "outputs": [
    {
     "data": {
      "text/latex": [
       "$\\displaystyle \\~{k}^* = \\left(\\frac{\\delta + g n + g + n}{s}\\right)^{\\frac{1}{\\alpha - 1}}$"
      ],
      "text/plain": [
       "Eq(\\~{k}^*, ((delta + g*n + g + n)/s)**(1/(alpha - 1)))"
      ]
     },
     "metadata": {},
     "output_type": "display_data"
    },
    {
     "data": {
      "text/latex": [
       "$\\displaystyle \\~{y}^* = \\left(\\left(\\frac{\\delta + g n + g + n}{s}\\right)^{\\frac{1}{\\alpha - 1}}\\right)^{\\alpha}$"
      ],
      "text/plain": [
       "Eq(\\~{y}^*, (((delta + g*n + g + n)/s)**(1/(alpha - 1)))**alpha)"
      ]
     },
     "metadata": {},
     "output_type": "display_data"
    }
   ],
   "source": [
    "#Find steady state for k\n",
    "ssk_t = sm.Eq(kstar,((s*kstar**alpha+(1-delta)*kstar)/((1+n)*(1+g))))\n",
    "ss_k_t = sm.solve(ssk_t,kstar)[0]\n",
    "s_s_k_t = sm.Eq(kstar,ss_k_t)\n",
    "\n",
    "#Find steady state for y\n",
    "ssy_t = sm.Eq(ystar,((ss_k_t**alpha)))\n",
    "ss_y_t = sm.solve(ssy_t,ystar)[0]\n",
    "s_s_y_t = sm.Eq(ystar,ss_y_t)\n",
    "\n",
    "#Show the results\n",
    "display(s_s_k_t)\n",
    "display(s_s_y_t)"
   ]
  },
  {
   "cell_type": "code",
   "execution_count": 206,
   "metadata": {},
   "outputs": [
    {
     "name": "stdout",
     "output_type": "stream",
     "text": [
      "Steady state value of capital: 3.291\n",
      "Steady state value of output: 1.487\n"
     ]
    }
   ],
   "source": [
    "#We will now turn our solution into a Python function\n",
    "ssk_func_t = sm.lambdify((g, s, delta, n, alpha), ss_k_t)\n",
    "\n",
    "ssy_func_t = sm.lambdify((g, s, delta, n, alpha), ss_y_t)\n",
    "\n",
    "#We will now evaluate the functions with specific parameters:\n",
    "ssk_value_t = ssk_func_t(0.02, 0.2, 0.05, 0.02, 1/3)\n",
    "\n",
    "ssy_value_t = ssy_func_t(0.02, 0.2, 0.05, 0.02, 1/3)\n",
    "\n",
    "# Print the values\n",
    "print('Steady state value of capital: {:.3f}'.format(ssk_value_t))\n",
    "print('Steady state value of output: {:.3f}'.format(ssy_value_t))"
   ]
  },
  {
   "cell_type": "markdown",
   "metadata": {},
   "source": [
    "We will now find the steady state by the numerical solution of The Solow Model with technological growth. We will use the same method as we did for The Basic Solow Model above."
   ]
  },
  {
   "cell_type": "code",
   "execution_count": 207,
   "metadata": {},
   "outputs": [
    {
     "name": "stdout",
     "output_type": "stream",
     "text": [
      "Steady state value of capital: 3.291\n",
      "Steady state value of output: 1.487\n"
     ]
    }
   ],
   "source": [
    "s = 0.2\n",
    "delta = 0.05\n",
    "n = 0.02\n",
    "g = 0.02\n",
    "alpha = 1/3\n",
    "\n",
    "solow_optimizer_t = SolowModelTech(s, delta, n, g, alpha)\n",
    "\n",
    "steady_state_k_t = solow_optimizer_t.steady_state_capital_t()\n",
    "steady_state_y_t = solow_optimizer_t.steady_state_output_t(steady_state_k_t)\n",
    "\n",
    "print('Steady state value of capital: {:.3f}'.format(steady_state_k_t))\n",
    "print('Steady state value of output: {:.3f}'.format(steady_state_y_t))"
   ]
  },
  {
   "cell_type": "code",
   "execution_count": 208,
   "metadata": {},
   "outputs": [
    {
     "data": {
      "application/vnd.jupyter.widget-view+json": {
       "model_id": "a20ad7a1c0d24c85835a2d2095f7ca9a",
       "version_major": 2,
       "version_minor": 0
      },
      "text/plain": [
       "interactive(children=(FloatSlider(value=0.02, description='n', max=0.1, min=0.01, step=0.005), FloatSlider(val…"
      ]
     },
     "metadata": {},
     "output_type": "display_data"
    }
   ],
   "source": [
    "# Interactive plot\n",
    "solow_optimizer_t.interactive_plot()"
   ]
  },
  {
   "cell_type": "markdown",
   "metadata": {},
   "source": [
    "When the technological growth increases the steady state moves towards the lower left corner. "
   ]
  },
  {
   "cell_type": "markdown",
   "metadata": {},
   "source": [
    "# Time paths "
   ]
  },
  {
   "cell_type": "markdown",
   "metadata": {},
   "source": [
    "We will now show three time paths for capital from three distinct initial conditions. We wil use the calculated steady state value for capital in the Solow Model with technological growth. \n",
    "$$\\tilde k^* = 3,29$$\n",
    "\n"
   ]
  },
  {
   "cell_type": "code",
   "execution_count": 209,
   "metadata": {},
   "outputs": [],
   "source": [
    "s, n, alpha, delta = 0.2, 0.02, 1/3, 0.05\n",
    "x0 = np.array([.25, 1.25, 3.25])\n",
    "\n",
    "ts_length = 5\n",
    "xmin, xmax = 0, ts_length\n",
    "ymin, ymax = 0, 4.0\n"
   ]
  },
  {
   "cell_type": "code",
   "execution_count": 210,
   "metadata": {},
   "outputs": [],
   "source": [
    "def y_t(s, k_t, alpha):\n",
    "    return s * k_t**alpha \n",
    "\n",
    "# Simulation function\n",
    "def simulate_ts(x0_values, ts_length):\n",
    "    # Steady-state level of capital\n",
    "    k_star = (s / (delta + n))**(1/(1 - alpha))\n",
    "    \n",
    "    # Plot setup\n",
    "    fig, ax = plt.subplots(figsize=[11, 5])\n",
    "    ax.set_xlim(xmin, xmax)\n",
    "    ax.set_ylim(ymin, ymax)\n",
    "\n",
    "    # Time series array\n",
    "    ts = np.zeros(ts_length)\n",
    "\n",
    "    # Simulate and plot time series\n",
    "    for x_init in x0_values:\n",
    "        ts[0] = x_init\n",
    "        for t in range(1, ts_length):\n",
    "            ts[t] = y_t(s, alpha, ts[t-1])\n",
    "        ax.plot(np.arange(ts_length), ts, '-o', ms=4, alpha=1/3, label=r'$k_0=%g$' % x_init)\n",
    "    \n",
    "    # Plot steady-state level\n",
    "    ax.plot(np.arange(ts_length), np.full(ts_length, k_star), alpha=1/3, color='red', label=r'$k^*$')\n",
    "    ax.legend(fontsize=10)\n",
    "\n",
    "    # Labels\n",
    "    ax.set_xlabel(r'$k_t$', fontsize=14)\n",
    "    ax.set_ylabel(r'$k_{t+1}$', fontsize=14)\n",
    "\n",
    "    plt.show()\n"
   ]
  },
  {
   "cell_type": "code",
   "execution_count": 211,
   "metadata": {},
   "outputs": [
    {
     "data": {
      "image/png": "[encoded data removed]",
      "text/plain": [
       "<Figure size 1100x500 with 1 Axes>"
      ]
     },
     "metadata": {},
     "output_type": "display_data"
    }
   ],
   "source": [
    "# Run simulation\n",
    "simulate_ts(x0, ts_length)"
   ]
  },
  {
   "cell_type": "markdown",
   "metadata": {},
   "source": [
    "# Shock to the saving rate"
   ]
  },
  {
   "cell_type": "markdown",
   "metadata": {},
   "source": [
    "We will now consider a permanent shock to the saving rate, s, in The Solow Model with technological growth. A permanent shock to the saving rate will male an shift upwards in the curve. This can be seen, when we look at the equation for the curve:\n",
    "$$y_t=sk_t^\\alpha$$\n",
    "In the figure below the change in the Solow Diagram with technological growth can be seen."
   ]
  },
  {
   "cell_type": "code",
   "execution_count": 212,
   "metadata": {},
   "outputs": [
    {
     "data": {
      "image/png": "[encoded data removed]",
      "text/plain": [
       "<Figure size 800x500 with 1 Axes>"
      ]
     },
     "metadata": {},
     "output_type": "display_data"
    }
   ],
   "source": [
    "g = 0.02\n",
    "delta = 0.05\n",
    "n = 0.02\n",
    "alpha = 1/3\n",
    "\n",
    "def solow_diagram_s(kmax_s: int, kline_s: float, s_values: list):\n",
    "    # Definition of the values of k and the diagonal line\n",
    "    k_values_s = np.linspace(0, kmax_s, 1000)\n",
    "    diagonal_s = (n + g + delta + n*g) * k_values_s\n",
    "\n",
    "    # The figure size and the graph\n",
    "    plt.figure(figsize=(8, 5))\n",
    "    plt.plot(k_values_s, diagonal_s, label=r'$(\\delta+g*n+g+n)k_t$', color='black')\n",
    "\n",
    "    # Plotting for each value of s\n",
    "    for s in s_values:\n",
    "        k_growth_s = s * k_values_s**alpha\n",
    "        plt.plot(k_values_s, k_growth_s, label=f'$s={s}$')\n",
    "\n",
    "    # Finding intersection points\n",
    "    intersection_points = []\n",
    "    for s in s_values:\n",
    "        k_growth_s = s * k_values_s**alpha\n",
    "        intersection_point = np.argwhere(np.diff(np.sign(k_growth_s - diagonal_s))).flatten()\n",
    "        intersection_points.append((k_values_s[intersection_point], k_growth_s[intersection_point]))\n",
    "    \n",
    "    # Plotting dotted lines where the diagonal line and the curves intersect each other\n",
    "    for point in intersection_points:\n",
    "        x = point[0]\n",
    "        y = point[1]\n",
    "        plt.vlines(x, 0, y, colors='r', linestyles='--', lw=1)  \n",
    "\n",
    "    # Figure details\n",
    "    plt.xlim(0, kmax_s)\n",
    "    plt.ylim(0, None)\n",
    "    plt.xlabel('$\\~{k}_t$')\n",
    "    plt.ylabel('$\\~{k}_{t+1}$')\n",
    "    plt.legend()\n",
    "    plt.title('The Solow Diagram with technological growth')\n",
    "    plt.grid(True)\n",
    "    plt.show()\n",
    "\n",
    "# Showing plot with two different values of s\n",
    "solow_diagram_s(kmax_s=10, kline_s=5, s_values=[0.2, 0.4])"
   ]
  },
  {
   "cell_type": "markdown",
   "metadata": {},
   "source": [
    "In the figure above we have considered a situation where the saving rate, s, increases from 0.2 to 0.4. This makes a shift upwards in the curve. The mechanism behind this is that a higher saving rate means that a larger proportion of the income will be saved. This means that savings will exceed population growth, and thus capital intensity and GDP per capita will increase until the new steady state is reached."
   ]
  },
  {
   "cell_type": "markdown",
   "metadata": {},
   "source": [
    "# Conclusion"
   ]
  },
  {
   "cell_type": "markdown",
   "metadata": {},
   "source": [
    "In this project we have analyzed the Solow Model with an extension with techonological growth. We did this extension due to the problem with the missing growth in the long run in The Basic Solow model which is unrealistic. Permanent shocks can change the steady state permanently. In the analysis it could be seen that a shock to the saving rate will make the savings outpace population growth which leads to an increase in capital intensity and GDP per capita until the economy reaches a new steady state."
   ]
  }
 ],
 "metadata": {
  "kernelspec": {
   "display_name": "base",
   "language": "python",
   "name": "python3"
  },
  "language_info": {
   "codemirror_mode": {
    "name": "ipython",
    "version": 3
   },
   "file_extension": ".py",
   "mimetype": "text/x-python",
   "name": "python",
   "nbconvert_exporter": "python",
   "pygments_lexer": "ipython3",
   "version": "3.11.7"
  },
  "toc-autonumbering": true,
  "vscode": {
   "interpreter": {
    "hash": "47ef90cdf3004d3f859f1fb202523c65c07ba7c22eefd261b181f4744e2d0403"
   }
  }
 },
 "nbformat": 4,
 "nbformat_minor": 4
}
