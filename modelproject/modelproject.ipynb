{
 "cells": [
  {
   "cell_type": "markdown",
   "metadata": {},
   "source": [
    "# The Basic Solow Model and an extension with Technological Growth"
   ]
  },
  {
   "cell_type": "markdown",
   "metadata": {},
   "source": [
    "**Table of contents**\n",
    "- 1. [The Basic Solow Model](#toc1_)\n",
    "  - 1.1. [Analytical Solution](#toc1_1_)\n",
    "  - 1.2. [Numerical Solution](#toc1_2_)\n",
    "  - 1.3. [Interactive Plot](#toc1_3_)\n",
    "- 2. [The Solow Model with Technological Growth](#toc2_)\n",
    "  - 2.1. [Analytical Solution](#toc2_1_)\n",
    "  - 2.2. [Numerical Solution](#toc2_2_)\n",
    "  - 2.3. [Interactive Plot](#toc2_3_)\n",
    "- 3. [Shock to the Saving Rate](#toc3_)\n",
    "- 4. [Shock to Technological Growth](#toc4_)\n",
    "- 5. [Conclusion](#toc5_)\n",
    "\n",
    "\n",
    "<!-- vscode-jupyter-toc-config\n",
    "\tnumbering=true\n",
    "\tanchor=true\n",
    "\tflat=false\n",
    "\tminLevel=2\n",
    "\tmaxLevel=6\n",
    "\t/vscode-jupyter-toc-config -->\n",
    "<!-- THIS CELL WILL BE REPLACED ON TOC UPDATE. DO NOT WRITE YOUR TEXT IN THIS CELL -->"
   ]
  },
  {
   "cell_type": "markdown",
   "metadata": {},
   "source": [
    "In this project we will analyse The Basic Solow Model and make an extension with technological growth. We include technological growth because there is no growth in the long run in The Basic Solow Model. This is due to the diminishing marginal product w.r.t. capital.  Technological growth will make the Solow Model closer to reality. In the end we will consider a permanent shock to both the saving rate and technological growth in the extended Solow Model. "
   ]
  },
  {
   "cell_type": "markdown",
   "metadata": {},
   "source": [
    "We import and set magics:"
   ]
  },
  {
   "cell_type": "code",
   "execution_count": 44,
   "metadata": {},
   "outputs": [
    {
     "name": "stdout",
     "output_type": "stream",
     "text": [
      "The autoreload extension is already loaded. To reload it, use:\n",
      "  %reload_ext autoreload\n"
     ]
    }
   ],
   "source": [
    "import numpy as np\n",
    "import matplotlib.pyplot as plt\n",
    "from scipy import optimize\n",
    "import sympy as sm\n",
    "from ipywidgets import interact, widgets\n",
    "\n",
    "# autoreload modules when code is run\n",
    "%load_ext autoreload\n",
    "%autoreload 2\n",
    "\n",
    "from modelproject import SolowModelTech\n",
    "from modelproject import SolowModel\n",
    "from modelproject import Shocks"
   ]
  },
  {
   "cell_type": "markdown",
   "metadata": {},
   "source": [
    "## 1 <a id='toc1_'></a>[The Basic Solow Model](#toc0_)\n"
   ]
  },
  {
   "cell_type": "markdown",
   "metadata": {},
   "source": [
    "The Basic Solow Model is an exogenous model for a closed economy. The production is determined by two factors in the supply side: physical capital, K, and labor, L. Physical capital is things like machines, factories, buildings and so on, where the labor is the population in the society. Capital and labor accumulate over time. The production can either be consumed today or invested in machines which will increase the production tomorrow. \n",
    "\n",
    "**The equations for The Basic Solow Model**\n",
    "$$Y_t=BK^\\alpha_tL^{1-\\alpha}_t, \\quad 0<\\alpha<1 \\tag{1}$$\n",
    "$$K_{t+1}=(1-\\delta)K_t+S_t, \\quad 0<\\delta<1 \\tag{2}$$\n",
    "$$S_t=sY_t, \\quad 0<s<1 \\tag{3}$$\n",
    "$$L_{t+1}=(1+n)L_t \\tag{4}$$\n",
    "$$r_t=\\alpha B\\left(\\frac{K_t}{L_t}\\right)^{\\alpha-1} \\tag{5}$$\n",
    "$$w_t=(1-\\alpha)B\\left(\\frac{K_t}{L_t}\\right)^\\alpha \\tag{6}$$\n",
    "\n",
    "\n",
    "Where $y_t\\equiv\\frac{Y_t}{L_t}$ and $k_t\\equiv\\frac{K_t}{L_t}$.\n"
   ]
  },
  {
   "cell_type": "markdown",
   "metadata": {},
   "source": [
    "### 1.1 <a id='toc1_1_'></a>[Analytical solution](#toc0_)"
   ]
  },
  {
   "cell_type": "markdown",
   "metadata": {},
   "source": [
    "We start by using sympy to find an analytical expression for steady state in The Basic Solow Model. This means that we will solve:\n",
    "$$k^*=\\frac{1}{1+n}(sBk^{*\\alpha}+(1-{\\delta})k^*)$$\n",
    "$$y^*=B(k^*)^\\alpha$$"
   ]
  },
  {
   "cell_type": "code",
   "execution_count": 45,
   "metadata": {},
   "outputs": [],
   "source": [
    "#Define symbols\n",
    "kstar = sm.symbols('k^*')\n",
    "ystar = sm.symbols('y^*')\n",
    "n = sm.symbols('n')\n",
    "s = sm.symbols('s')\n",
    "B = sm.symbols('B')\n",
    "alpha = sm.symbols('alpha')\n",
    "delta = sm.symbols('delta')"
   ]
  },
  {
   "cell_type": "code",
   "execution_count": 46,
   "metadata": {},
   "outputs": [
    {
     "data": {
      "text/latex": [
       "$\\displaystyle k^{*} = \\left(\\frac{B s}{\\delta + n}\\right)^{- \\frac{1}{\\alpha - 1}}$"
      ],
      "text/plain": [
       "Eq(k^*, (B*s/(delta + n))**(-1/(alpha - 1)))"
      ]
     },
     "metadata": {},
     "output_type": "display_data"
    },
    {
     "data": {
      "text/latex": [
       "$\\displaystyle y^{*} = B \\left(\\left(\\frac{B s}{\\delta + n}\\right)^{- \\frac{1}{\\alpha - 1}}\\right)^{\\alpha}$"
      ],
      "text/plain": [
       "Eq(y^*, B*((B*s/(delta + n))**(-1/(alpha - 1)))**alpha)"
      ]
     },
     "metadata": {},
     "output_type": "display_data"
    }
   ],
   "source": [
    "#Find steady state for k\n",
    "ssk = sm.Eq(kstar,((s*B*kstar**alpha+(1-delta)*kstar)/(1+n)))\n",
    "ss_k = sm.solve(ssk,kstar)[0]\n",
    "s_s_k = sm.Eq(kstar,ss_k)\n",
    "\n",
    "#Find steady state for y\n",
    "ssy = sm.Eq(ystar,((B*ss_k**alpha)))\n",
    "ss_y = sm.solve(ssy,ystar)[0]\n",
    "s_s_y = sm.Eq(ystar,ss_y)\n",
    "\n",
    "#Show the results\n",
    "display(s_s_k)\n",
    "display(s_s_y)"
   ]
  },
  {
   "cell_type": "code",
   "execution_count": 47,
   "metadata": {},
   "outputs": [
    {
     "name": "stdout",
     "output_type": "stream",
     "text": [
      "Steady state value of capital: 4.829\n",
      "Steady state value of output: 1.690\n"
     ]
    }
   ],
   "source": [
    "#We will now turn our solution into a Python function\n",
    "ssk_func = sm.lambdify((B, s, delta, n, alpha), ss_k)\n",
    "\n",
    "ssy_func = sm.lambdify((B, s, delta, n, alpha), ss_y)\n",
    "\n",
    "#We will now evaluate the functions with specific parameters:\n",
    "ssk_value = ssk_func(1, 0.2, 0.05, 0.02, 1/3)\n",
    "\n",
    "ssy_value = ssy_func(1, 0.2, 0.05, 0.02, 1/3)\n",
    "\n",
    "# Print the values\n",
    "print('Steady state value of capital: {:.3f}'.format(ssk_value))\n",
    "print('Steady state value of output: {:.3f}'.format(ssy_value))"
   ]
  },
  {
   "cell_type": "markdown",
   "metadata": {},
   "source": [
    "### 1.2 <a id='toc1_2_'></a>[Numerical solution](#toc0_)"
   ]
  },
  {
   "cell_type": "markdown",
   "metadata": {},
   "source": [
    "We will now find steady state by the numerical solution of The Basic Solow Model. \n",
    "To do this, we start by defining the parameters. Then we find steady state for k and y using the root finding optimizer, optimize.root_scalar, where we use two different methods Brentq and Bisect. We will try both of them to see which is the best.\n",
    "The brentq method is a root-finding algorithm based on Brent's method, which is also known as the Brent-Dekker method. This algorithm is used to find the roots (or zeros) of a continuous function within a given interval. It combines the bisection method, the secant method, and inverse quadratic interpolation for fast and robust convergence.\n",
    "The Bisect method is a simple root-finding method which works by finding a root within a specified interval by repeatedly halving the interval and testing for sign change.\n",
    "\n",
    "We start by using the Brentq method. "
   ]
  },
  {
   "cell_type": "code",
   "execution_count": 48,
   "metadata": {},
   "outputs": [
    {
     "name": "stdout",
     "output_type": "stream",
     "text": [
      "      converged: True\n",
      "           flag: converged\n",
      " function_calls: 11\n",
      "     iterations: 10\n",
      "           root: 4.829452884162825\n",
      "      converged: True\n",
      "           flag: converged\n",
      " function_calls: 3\n",
      "     iterations: 2\n",
      "           root: 1.6903085094570183\n",
      "Steady state value of capital: 4.829\n",
      "Steady state value of output: 1.690\n"
     ]
    }
   ],
   "source": [
    "#The parameters\n",
    "B = 1\n",
    "s = 0.2\n",
    "delta = 0.05\n",
    "n = 0.02\n",
    "alpha = 1/3\n",
    "\n",
    "solow_optimizer = SolowModel(s, delta, n, B, alpha)\n",
    "\n",
    "steady_state_k = solow_optimizer.steady_state_capital()\n",
    "steady_state_y = solow_optimizer.steady_state_output(steady_state_k)\n",
    "\n",
    "print('Steady state value of capital: {:.3f}'.format(steady_state_k))\n",
    "print('Steady state value of output: {:.3f}'.format(steady_state_y))\n"
   ]
  },
  {
   "cell_type": "markdown",
   "metadata": {},
   "source": [
    "We will now use the Bisect method."
   ]
  },
  {
   "cell_type": "code",
   "execution_count": 49,
   "metadata": {},
   "outputs": [
    {
     "name": "stdout",
     "output_type": "stream",
     "text": [
      "      converged: True\n",
      "           flag: converged\n",
      " function_calls: 48\n",
      "     iterations: 46\n",
      "           root: 4.829452884163196\n",
      "      converged: True\n",
      "           flag: converged\n",
      " function_calls: 48\n",
      "     iterations: 46\n",
      "           root: 1.6903085094578514\n",
      "Steady state value of capital: 4.829\n",
      "Steady state value of output: 1.690\n"
     ]
    }
   ],
   "source": [
    "#The parameters\n",
    "B = 1\n",
    "s = 0.2\n",
    "delta = 0.05\n",
    "n = 0.02\n",
    "alpha = 1/3\n",
    "\n",
    "solow_optimizer_bisect= SolowModel(s, delta, n, B, alpha)\n",
    "steady_state_k_bisect = solow_optimizer_bisect.steady_state_capital_bisect()\n",
    "steady_state_y_bisect = solow_optimizer_bisect.steady_state_output_bisect(steady_state_k_bisect)\n",
    "\n",
    "print('Steady state value of capital: {:.3f}'.format(steady_state_k_bisect))\n",
    "print('Steady state value of output: {:.3f}'.format(steady_state_y_bisect))\n"
   ]
  },
  {
   "cell_type": "markdown",
   "metadata": {},
   "source": [
    "**Comparing Brentq and Bisect**\n",
    "\n",
    "We see that the two methods converge to the analytical solution. There is a small difference in the steady state values in the two methods. The difference can be seen in the 12th decimal. Furthermore, it can be seen that Brentq has much lower iterations, which means that it finds the roots faster than the Bisect method. \n",
    "Brentq is in general also considered as the best of the rootfinding methods. This is because that is is a method with a fast convergence speed and it is robust against different types of functions. \n",
    "\n",
    "\n",
    "\n",
    "We will now use Numpy to set a tolerance level. This is to check that the numerical steady state in the two methods is equal to the analytical steady state. "
   ]
  },
  {
   "cell_type": "code",
   "execution_count": 50,
   "metadata": {},
   "outputs": [
    {
     "name": "stdout",
     "output_type": "stream",
     "text": [
      "Numerical Steady State for k with Brentq method is equal to analytical Steady State: True\n",
      "Numerical Steady State for y with Brentq method is equal to analytical Steady State: True\n",
      "Numerical Steady State for k with Bisect method is equal to analytical Steady State: True\n",
      "Numerical Steady State for y with Bisect method is equal to analytical Steady State: True\n"
     ]
    }
   ],
   "source": [
    "# Tolerance level for the numerical solutions\n",
    "tol = 1e-5  \n",
    "\n",
    "print(f'Numerical Steady State for k with Brentq method is equal to analytical Steady State: {np.isclose(steady_state_k, ssk_value, tol)}')\n",
    "print(f'Numerical Steady State for y with Brentq method is equal to analytical Steady State: {np.isclose(steady_state_y, ssy_value, tol)}')\n",
    "\n",
    "print(f'Numerical Steady State for k with Bisect method is equal to analytical Steady State: {np.isclose(steady_state_k_bisect, ssk_value, tol)}')\n",
    "print(f'Numerical Steady State for y with Bisect method is equal to analytical Steady State: {np.isclose(steady_state_y_bisect, ssy_value, tol)}')"
   ]
  },
  {
   "cell_type": "markdown",
   "metadata": {},
   "source": [
    "Since the outcome is true, we accept the numerical steady state to be equal to the analytical for both methods. "
   ]
  },
  {
   "cell_type": "markdown",
   "metadata": {},
   "source": [
    "### 1.3 <a id='toc1_3_'></a>[Interactive Plot](#toc0_)"
   ]
  },
  {
   "cell_type": "markdown",
   "metadata": {},
   "source": [
    "We will now make an interactive Solow Diagram for The Basic Solow Model."
   ]
  },
  {
   "cell_type": "code",
   "execution_count": 51,
   "metadata": {},
   "outputs": [
    {
     "data": {
      "application/vnd.jupyter.widget-view+json": {
       "model_id": "29d8b714bb9c473e9447b311c9f06282",
       "version_major": 2,
       "version_minor": 0
      },
      "text/plain": [
       "interactive(children=(FloatSlider(value=0.02, description='n', max=0.1, min=0.01, step=0.005), FloatSlider(val…"
      ]
     },
     "metadata": {},
     "output_type": "display_data"
    }
   ],
   "source": [
    "# Interactive plot\n",
    "solow_optimizer.interactive_plot_basic()"
   ]
  },
  {
   "cell_type": "markdown",
   "metadata": {},
   "source": [
    "In the basic Solow Diagram above, it can be seen that there is convergens to steady state no matter the starting point. If $k_0$ is smaller than $k^*$, then it will increase until it reaches $k^*$. In the same way, if $k_0$ is larger than $k^*$, then it will decrease until it reaches $k^*$. In that way there will always be convergens until steady state, $k^*$.\n",
    "It can be seen in the figure, that when the population growth, n, increases, then the steady state moves towards the lower left corner. Furthermore, it can be seen that when the savings, s, increases steady state will move against the upper right corner. "
   ]
  },
  {
   "cell_type": "markdown",
   "metadata": {},
   "source": [
    "## 2 <a id='toc2_'></a>[Solow Model with Technological Growth](#toc0_)"
   ]
  },
  {
   "cell_type": "markdown",
   "metadata": {},
   "source": [
    "We will now do an extension of the Basic Solow Model where we include the tecnological growthrate. A problem with the Basic Solow Model is that is no positive growth in the long run, due to diminishing marginal product w.r.t. capital. This does not fit well with empirical evidence from Western countries. By including technological growth the model will be more close to reality. \n",
    "\n",
    "**The equations for The Solow Model with harrod-neutral technological growth**\n",
    "$$Y_t=K^\\alpha_t(A_tL_t)^{1-\\alpha}, \\quad 0<\\alpha<1 \\tag{1}$$\n",
    "$$K_{t+1}=(1-\\delta)K_t+S_t, \\quad 0<\\delta<1 \\tag{2}$$\n",
    "$$S_t=sY_t, \\quad 0<s<1 \\tag{3}$$\n",
    "$$L_{t+1}=(1+n)L_t \\tag{4}$$\n",
    "$$A_{t+1}=(1+g)A_t \\tag{5}$$\n",
    "$$r_t=\\alpha B\\left(\\frac{K_t}{L_t}\\right)^{\\alpha-1} \\tag{6}$$\n",
    "$$w_t=(1-\\alpha)B\\left(\\frac{K_t}{L_t}\\right)^\\alpha \\tag{7}$$\n",
    "\n",
    "\n",
    "Where $y_t\\equiv\\frac{Y_t}{L_t}$ and $k_t\\equiv\\frac{K_t}{L_t}$."
   ]
  },
  {
   "cell_type": "markdown",
   "metadata": {},
   "source": [
    "### 2.1 <a id='toc2_1_'></a>[Analytical solution](#toc0_)"
   ]
  },
  {
   "cell_type": "markdown",
   "metadata": {},
   "source": [
    " We start by using sympy to find an analytical expression for steady state in The Solow Model with technological growth. This means that we will solve:\n",
    "$$\\tilde k^*=\\frac{1}{(1+n)(1+g)}(s (\\tilde k^*)^\\alpha+(1-{\\delta})\\tilde k^*)$$\n",
    "$$\\tilde y^*=(\\tilde k^*)^\\alpha$$"
   ]
  },
  {
   "cell_type": "code",
   "execution_count": 52,
   "metadata": {},
   "outputs": [],
   "source": [
    "#Define symbols\n",
    "kstar = sm.symbols('\\~{k}^*')\n",
    "ystar = sm.symbols('\\~{y}^*')\n",
    "n = sm.symbols('n')\n",
    "s = sm.symbols('s')\n",
    "g = sm.symbols('g')\n",
    "alpha = sm.symbols('alpha')\n",
    "delta = sm.symbols('delta')"
   ]
  },
  {
   "cell_type": "code",
   "execution_count": 53,
   "metadata": {},
   "outputs": [
    {
     "data": {
      "text/latex": [
       "$\\displaystyle \\~{k}^* = \\left(\\frac{\\delta + g n + g + n}{s}\\right)^{\\frac{1}{\\alpha - 1}}$"
      ],
      "text/plain": [
       "Eq(\\~{k}^*, ((delta + g*n + g + n)/s)**(1/(alpha - 1)))"
      ]
     },
     "metadata": {},
     "output_type": "display_data"
    },
    {
     "data": {
      "text/latex": [
       "$\\displaystyle \\~{y}^* = \\left(\\left(\\frac{\\delta + g n + g + n}{s}\\right)^{\\frac{1}{\\alpha - 1}}\\right)^{\\alpha}$"
      ],
      "text/plain": [
       "Eq(\\~{y}^*, (((delta + g*n + g + n)/s)**(1/(alpha - 1)))**alpha)"
      ]
     },
     "metadata": {},
     "output_type": "display_data"
    }
   ],
   "source": [
    "#Find steady state for k\n",
    "ssk_t = sm.Eq(kstar,((s*kstar**alpha+(1-delta)*kstar)/((1+n)*(1+g))))\n",
    "ss_k_t = sm.solve(ssk_t,kstar)[0]\n",
    "s_s_k_t = sm.Eq(kstar,ss_k_t)\n",
    "\n",
    "#Find steady state for y\n",
    "ssy_t = sm.Eq(ystar,((ss_k_t**alpha)))\n",
    "ss_y_t = sm.solve(ssy_t,ystar)[0]\n",
    "s_s_y_t = sm.Eq(ystar,ss_y_t)\n",
    "\n",
    "#Show the results\n",
    "display(s_s_k_t)\n",
    "display(s_s_y_t)"
   ]
  },
  {
   "cell_type": "code",
   "execution_count": 54,
   "metadata": {},
   "outputs": [
    {
     "name": "stdout",
     "output_type": "stream",
     "text": [
      "Steady state value of capital: 3.291\n",
      "Steady state value of output: 1.487\n"
     ]
    }
   ],
   "source": [
    "#We will now turn our solution into a Python function\n",
    "ssk_func_t = sm.lambdify((g, s, delta, n, alpha), ss_k_t)\n",
    "\n",
    "ssy_func_t = sm.lambdify((g, s, delta, n, alpha), ss_y_t)\n",
    "\n",
    "#We will now evaluate the functions with specific parameters:\n",
    "ssk_value_t = ssk_func_t(0.02, 0.2, 0.05, 0.02, 1/3)\n",
    "\n",
    "ssy_value_t = ssy_func_t(0.02, 0.2, 0.05, 0.02, 1/3)\n",
    "\n",
    "# Print the values\n",
    "print('Steady state value of capital: {:.3f}'.format(ssk_value_t))\n",
    "print('Steady state value of output: {:.3f}'.format(ssy_value_t))"
   ]
  },
  {
   "cell_type": "markdown",
   "metadata": {},
   "source": [
    "### 2.2 <a id='toc2_2_'></a>[Numerical Solution](#toc0_)"
   ]
  },
  {
   "cell_type": "markdown",
   "metadata": {},
   "source": [
    "We will now find the steady state by the numerical solution of The Solow Model with technological growth. \n",
    "We will start by using the Brentq method. "
   ]
  },
  {
   "cell_type": "code",
   "execution_count": 55,
   "metadata": {},
   "outputs": [
    {
     "name": "stdout",
     "output_type": "stream",
     "text": [
      "      converged: True\n",
      "           flag: converged\n",
      " function_calls: 11\n",
      "     iterations: 10\n",
      "           root: 3.290730737327005\n",
      "      converged: True\n",
      "           flag: converged\n",
      " function_calls: 3\n",
      "     iterations: 2\n",
      "           root: 1.487410293271818\n",
      "Steady state value of capital: 3.291\n",
      "Steady state value of output: 1.487\n"
     ]
    }
   ],
   "source": [
    "s = 0.2\n",
    "delta = 0.05\n",
    "n = 0.02\n",
    "g = 0.02\n",
    "alpha = 1/3\n",
    "\n",
    "solow_optimizer_t = SolowModelTech(s, delta, n, g, alpha)\n",
    "\n",
    "steady_state_k_t = solow_optimizer_t.steady_state_capital_t()\n",
    "steady_state_y_t = solow_optimizer_t.steady_state_output_t(steady_state_k_t)\n",
    "\n",
    "print('Steady state value of capital: {:.3f}'.format(steady_state_k_t))\n",
    "print('Steady state value of output: {:.3f}'.format(steady_state_y_t))"
   ]
  },
  {
   "cell_type": "markdown",
   "metadata": {},
   "source": [
    "Now we use the Bisect method."
   ]
  },
  {
   "cell_type": "code",
   "execution_count": 56,
   "metadata": {},
   "outputs": [
    {
     "name": "stdout",
     "output_type": "stream",
     "text": [
      "      converged: True\n",
      "           flag: converged\n",
      " function_calls: 48\n",
      "     iterations: 46\n",
      "           root: 3.290730737327921\n",
      "      converged: True\n",
      "           flag: converged\n",
      " function_calls: 48\n",
      "     iterations: 46\n",
      "           root: 1.4874102932711495\n",
      "Steady state value of capital: 3.291\n",
      "Steady state value of output: 1.487\n"
     ]
    }
   ],
   "source": [
    "s = 0.2\n",
    "delta = 0.05\n",
    "n = 0.02\n",
    "g = 0.02\n",
    "alpha = 1/3\n",
    "\n",
    "solow_optimizer_t_bisect = SolowModelTech(s, delta, n, g, alpha)\n",
    "\n",
    "steady_state_k_t_bisect = solow_optimizer_t_bisect.steady_state_capital_t_bisect()\n",
    "steady_state_y_t_bisect = solow_optimizer_t_bisect.steady_state_output_t_bisect(steady_state_k_t_bisect)\n",
    "\n",
    "print('Steady state value of capital: {:.3f}'.format(steady_state_k_t_bisect))\n",
    "print('Steady state value of output: {:.3f}'.format(steady_state_y_t_bisect))"
   ]
  },
  {
   "cell_type": "markdown",
   "metadata": {},
   "source": [
    "**Comparing Brentq and Bisect**\n",
    "\n",
    "We see that the two methods converge to the analytical solution. There is a small difference in the steady state values in the two methods. The difference can be seen in the 13th decimal. Furthermore, it can be seen that Brentq again has much lower iterations."
   ]
  },
  {
   "cell_type": "code",
   "execution_count": 57,
   "metadata": {},
   "outputs": [
    {
     "name": "stdout",
     "output_type": "stream",
     "text": [
      "Numerical Steady State for k with Brentq method is equal to analytical Steady State: True\n",
      "Numerical Steady State for y with Brentq method is equal to analytical Steady State: True\n",
      "Numerical Steady State for k with Bisect method is equal to analytical Steady State: True\n",
      "Numerical Steady State for y with Bisect method is equal to analytical Steady State: True\n"
     ]
    }
   ],
   "source": [
    "# Tolerance level for the numerical solutions\n",
    "tol = 1e-5  \n",
    "\n",
    "print(f'Numerical Steady State for k with Brentq method is equal to analytical Steady State: {np.isclose(steady_state_k_t, ssk_value_t, tol)}')\n",
    "print(f'Numerical Steady State for y with Brentq method is equal to analytical Steady State: {np.isclose(steady_state_y_t, ssy_value_t, tol)}')\n",
    "\n",
    "print(f'Numerical Steady State for k with Bisect method is equal to analytical Steady State: {np.isclose(steady_state_k_t_bisect, ssk_value_t, tol)}')\n",
    "print(f'Numerical Steady State for y with Bisect method is equal to analytical Steady State: {np.isclose(steady_state_y_t_bisect, ssy_value_t, tol)}')"
   ]
  },
  {
   "cell_type": "markdown",
   "metadata": {},
   "source": [
    "Since the outcome is true, we accept the numerical steady state to be equal to the analytical for both methods. "
   ]
  },
  {
   "cell_type": "markdown",
   "metadata": {},
   "source": [
    "### 2.3 <a id='toc2_3_'></a>[Interactive Plot](#toc0_)"
   ]
  },
  {
   "cell_type": "markdown",
   "metadata": {},
   "source": [
    "We will now make an interactive plot for the Solow Model with technological growth."
   ]
  },
  {
   "cell_type": "code",
   "execution_count": 58,
   "metadata": {},
   "outputs": [
    {
     "data": {
      "application/vnd.jupyter.widget-view+json": {
       "model_id": "98679b1a418744a282cfd1657a0a0cce",
       "version_major": 2,
       "version_minor": 0
      },
      "text/plain": [
       "interactive(children=(FloatSlider(value=0.02, description='n', max=0.1, min=0.01, step=0.005), FloatSlider(val…"
      ]
     },
     "metadata": {},
     "output_type": "display_data"
    }
   ],
   "source": [
    "# Interactive plot\n",
    "solow_optimizer_t.interactive_plot()"
   ]
  },
  {
   "cell_type": "markdown",
   "metadata": {},
   "source": [
    "When the technological growth increases the steady state moves towards the lower left corner. "
   ]
  },
  {
   "cell_type": "markdown",
   "metadata": {},
   "source": [
    "## 3 <a id='toc3_'></a>[Shock to the Saving Rate](#toc0_)"
   ]
  },
  {
   "cell_type": "markdown",
   "metadata": {},
   "source": [
    "We will now consider a permanent shock to the saving rate, s, in The Solow Model with technological growth. A permanent positive shock to the saving rate will make an shift upwards in the curve. This can be seen, when we look at the equation for the curve:\n",
    "$$y_t=sk_t^\\alpha$$\n",
    "In the figure below the change in the Solow Diagram with technological growth can be seen."
   ]
  },
  {
   "cell_type": "code",
   "execution_count": 59,
   "metadata": {},
   "outputs": [
    {
     "data": {
      "image/png": "[encoded data removed]",
      "text/plain": [
       "<Figure size 800x500 with 1 Axes>"
      ]
     },
     "metadata": {},
     "output_type": "display_data"
    }
   ],
   "source": [
    "s = 0.2\n",
    "delta = 0.05\n",
    "n = 0.02\n",
    "g = 0.02\n",
    "alpha = 1/3\n",
    "\n",
    "def solow_diagram_s(kmax_s: int, kline_s: float, s_values: list):\n",
    "        # Definition of the values of k and the diagonal line\n",
    "        k_values_s = np.linspace(0, kmax_s, 1000)\n",
    "        diagonal_s = (n + g + delta + n*g) * k_values_s\n",
    "\n",
    "        # The figure size and the graph\n",
    "        plt.figure(figsize=(8, 5))\n",
    "        plt.plot(k_values_s, diagonal_s, label=r'$(\\delta+g*n+g+n)k_t$', color='black')\n",
    "\n",
    "        # Plotting for each value of s\n",
    "        for s in s_values:\n",
    "            k_growth_s = s * k_values_s**alpha\n",
    "            plt.plot(k_values_s, k_growth_s, label=f'$s={s}$')\n",
    "\n",
    "        # Finding intersection points\n",
    "        intersection_points = []\n",
    "        for s in s_values:\n",
    "            k_growth_s = s * k_values_s**alpha\n",
    "            intersection_point = np.argwhere(np.diff(np.sign(k_growth_s - diagonal_s))).flatten()\n",
    "            intersection_points.append((k_values_s[intersection_point], k_growth_s[intersection_point]))\n",
    "        \n",
    "        # Plotting dotted lines where the diagonal line and the curves intersect each other\n",
    "        for point in intersection_points:\n",
    "            x = point[0]\n",
    "            y = point[1]\n",
    "            plt.vlines(x, 0, y, colors='r', linestyles='--', lw=1)  \n",
    "\n",
    "        # Figure details\n",
    "        plt.xlim(0, kmax_s)\n",
    "        plt.ylim(0, None)\n",
    "        plt.xlabel('$\\~{k}_t$')\n",
    "        plt.ylabel('$\\~{k}_{t+1}$')\n",
    "        plt.legend()\n",
    "        plt.title('The Solow Diagram with technological growth')\n",
    "        plt.grid(True)\n",
    "        plt.show()\n",
    "\n",
    "solow_diagram_s(kmax_s=10, kline_s=5, s_values=[0.2, 0.4])"
   ]
  },
  {
   "cell_type": "markdown",
   "metadata": {},
   "source": [
    "In the figure above we have considered a situation where the saving rate, s, increases from 0.2 to 0.4. This makes a shift upwards in the curve. The mechanism behind this is that a higher saving rate means that a larger proportion of the income will be saved. This means that savings will exceed population growth, and thus capital intensity and GDP per capita will increase until the new steady state is reached."
   ]
  },
  {
   "cell_type": "markdown",
   "metadata": {},
   "source": [
    "## 4 <a id='toc4_'></a>[Shock to Technological Growth](#toc0_)"
   ]
  },
  {
   "cell_type": "markdown",
   "metadata": {},
   "source": [
    "We will now investigate what happens when there is a positive permanent shock to technological growth in the Solow Model with technological growth. We expect that a positive permanent shock to technological growth will make the diagonal line steeper. "
   ]
  },
  {
   "cell_type": "code",
   "execution_count": 62,
   "metadata": {},
   "outputs": [
    {
     "data": {
      "image/png": "[encoded data removed]",
      "text/plain": [
       "<Figure size 800x500 with 1 Axes>"
      ]
     },
     "metadata": {},
     "output_type": "display_data"
    }
   ],
   "source": [
    "s = 0.2\n",
    "delta = 0.05\n",
    "n = 0.02\n",
    "alpha = 1/3\n",
    "\n",
    "def solow_diagram_g(kmax_g: int, g_values: list):\n",
    "    # Definition of the values of k \n",
    "    k_values_g = np.linspace(0, kmax_g, 1000)\n",
    "    k_growth_g = s * k_values_g**alpha\n",
    "\n",
    "     # The figure size\n",
    "    plt.figure(figsize=(8, 5))\n",
    "\n",
    "\n",
    "     # Plotting for each value of g\n",
    "    for g in g_values:\n",
    "        diagonal_g = (n + g + delta + n*g) * k_values_g\n",
    "        plt.plot(k_values_g, diagonal_g, label=f'$(\\delta+g*n+g+n)k_t$ for $g={g}$')\n",
    "\n",
    "\n",
    "        # Finding intersection points\n",
    "        intersection_points = []\n",
    "        intersection_indices = np.argwhere(np.diff(np.sign(k_growth_g - diagonal_g))).flatten()\n",
    "        if intersection_indices.size > 0:\n",
    "            for idx in intersection_indices:\n",
    "                k_intersect = k_values_g[idx]\n",
    "                k_growth_intersect = k_growth_g[idx]\n",
    "                intersection_points.append((k_intersect, k_growth_intersect))\n",
    "\n",
    "    plt.plot(k_values_g, k_growth_g, label=r'$s k_t^\\alpha$', color='black')\n",
    "\n",
    "    # Plotting dotted lines where the diagonal line and the curves intersect each other\n",
    "    for point in intersection_points:\n",
    "        x, y = point\n",
    "        plt.vlines(x, 0, y, colors='r', linestyles='--', lw=1)\n",
    "\n",
    "    # Figure details\n",
    "    plt.xlim(0, kmax_g)\n",
    "    plt.ylim(0, None)\n",
    "    plt.xlabel('$\\~{k}_t$')\n",
    "    plt.ylabel('$\\~{k}_{t+1}$')\n",
    "    plt.legend()\n",
    "    plt.title('The Solow Diagram with technological growth')\n",
    "    plt.grid(True)\n",
    "    plt.show()\n",
    "\n",
    "solow_diagram_g(kmax_g=10, g_values=[0.02, 0.06])\n"
   ]
  },
  {
   "cell_type": "markdown",
   "metadata": {},
   "source": [
    "In the figure above, it can be seen than an increase in technological growth will make the diagonal line steeper. When \n",
    "g increases, it means that technology is growing faster over time. The long-term effect of a higher technological growth rate is an increase in output per worker because the productivity is improved. is in As technology improves more rapidly, workers can produce more output with the same amount of capital and labor."
   ]
  },
  {
   "cell_type": "markdown",
   "metadata": {},
   "source": [
    "## 5 <a id='toc5_'></a>[Conclusion](#toc0_)"
   ]
  },
  {
   "cell_type": "markdown",
   "metadata": {},
   "source": [
    "In this project we have analyzed the Solow Model with an extension with techonological growth. We did this extension due to the problem with the missing growth in the long run in The Basic Solow model which is unrealistic. Permanent shocks can change the steady state permanently. In the analysis it could be seen that a shock to the saving rate will make the savings outpace population growth which leads to an increase in capital intensity and GDP per capita until the economy reaches a new steady state. In the analysis we also investigated a permanent shock to technological growth. Here we found that a positiv permanent shock to technological growth will improve the productivity which will increase output per worker. "
   ]
  }
 ],
 "metadata": {
  "kernelspec": {
   "display_name": "base",
   "language": "python",
   "name": "python3"
  },
  "language_info": {
   "codemirror_mode": {
    "name": "ipython",
    "version": 3
   },
   "file_extension": ".py",
   "mimetype": "text/x-python",
   "name": "python",
   "nbconvert_exporter": "python",
   "pygments_lexer": "ipython3",
   "version": "3.11.7"
  },
  "toc-autonumbering": true,
  "vscode": {
   "interpreter": {
    "hash": "47ef90cdf3004d3f859f1fb202523c65c07ba7c22eefd261b181f4744e2d0403"
   }
  }
 },
 "nbformat": 4,
 "nbformat_minor": 4
}
