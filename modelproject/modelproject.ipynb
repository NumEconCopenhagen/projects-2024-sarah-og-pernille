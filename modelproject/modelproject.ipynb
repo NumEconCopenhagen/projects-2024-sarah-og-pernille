{
 "cells": [
  {
   "cell_type": "markdown",
   "metadata": {},
   "source": [
    "# YOUR PROJECT TITLE"
   ]
  },
  {
   "attachments": {},
   "cell_type": "markdown",
   "metadata": {},
   "source": [
    "> **Note the following:** \n",
    "> 1. This is *not* meant to be an example of an actual **model analysis project**, just an example of how to structure such a project.\n",
    "> 1. Remember the general advice on structuring and commenting your code\n",
    "> 1. The `modelproject.py` file includes a function which could be used multiple times in this notebook."
   ]
  },
  {
   "cell_type": "markdown",
   "metadata": {},
   "source": [
    "Imports and set magics:"
   ]
  },
  {
   "cell_type": "code",
   "execution_count": 35,
   "metadata": {},
   "outputs": [
    {
     "name": "stdout",
     "output_type": "stream",
     "text": [
      "The autoreload extension is already loaded. To reload it, use:\n",
      "  %reload_ext autoreload\n"
     ]
    }
   ],
   "source": [
    "import numpy as np\n",
    "from scipy import optimize\n",
    "import sympy as sm\n",
    "import matplotlib.pyplot as plt\n",
    "from ipywidgets import interact, widgets\n",
    "\n",
    "# autoreload modules when code is run\n",
    "%load_ext autoreload\n",
    "%autoreload 2\n",
    "\n",
    "# local modules\n",
    "import modelproject"
   ]
  },
  {
   "cell_type": "markdown",
   "metadata": {},
   "source": [
    "# The Basic Solow Model"
   ]
  },
  {
   "cell_type": "markdown",
   "metadata": {},
   "source": [
    "The Basic Solow Model is an exogenous model for a closed economy. The production is determined by two factors in the supply side: physical capital, K, and labor, L. Physical capital is things like machines, factories, buildings and so on, where the labor is the population in the society. Capital and labor accumulate over time. The production can either be consumed today or invested in machines which will increase the production tomorrow. \n",
    "\n",
    "**The equations for The Basic Solow Model**\n",
    "$$Y_t=BK^\\alpha_tL^{1-\\alpha}_t, \\quad 0<\\alpha<1 \\tag{1}$$\n",
    "$$K_{t+1}=(1-\\delta)K_t+S_t, \\quad 0<\\delta<1 \\tag{2}$$\n",
    "$$S_t=sY_t, \\quad 0<s<1 \\tag{3}$$\n",
    "$$L_{t+1}=(1+n)L_t \\tag{4}$$\n",
    "$$r_t=\\alpha B\\left(\\frac{K_t}{L_t}\\right)^{\\alpha-1} \\tag{5}$$\n",
    "$$w_t=(1-\\alpha)B\\left(\\frac{K_t}{L_t}\\right)^\\alpha \\tag{6}$$\n",
    "\n",
    "\n",
    "Where $y_t\\equiv\\frac{Y_t}{L_t}$ and $k_t\\equiv\\frac{K_t}{L_t}$.\n"
   ]
  },
  {
   "cell_type": "markdown",
   "metadata": {},
   "source": [
    "## Analytical solution"
   ]
  },
  {
   "cell_type": "markdown",
   "metadata": {},
   "source": [
    "We start by using sympy to find an analytical expression for steady state in The Basic Solow Model. This means that we will solve:\n",
    "$$k^*=\\frac{1}{1+n}(sBk^{*\\alpha}+(1-{\\delta})k^*)$$\n",
    "$$y^*=B(k^*)^\\alpha"
   ]
  },
  {
   "cell_type": "code",
   "execution_count": 25,
   "metadata": {},
   "outputs": [],
   "source": [
    "#Define symbols\n",
    "kstar = sm.symbols('k^*')\n",
    "ystar = sm.symbols('y^*')\n",
    "n = sm.symbols('n')\n",
    "s = sm.symbols('s')\n",
    "B = sm.symbols('B')\n",
    "alpha = sm.symbols('alpha')\n",
    "delta = sm.symbols('delta')"
   ]
  },
  {
   "cell_type": "code",
   "execution_count": 42,
   "metadata": {},
   "outputs": [
    {
     "data": {
      "text/latex": [
       "$\\displaystyle k^{*} = \\left(\\frac{B s}{\\delta + n}\\right)^{- \\frac{1}{\\alpha - 1}}$"
      ],
      "text/plain": [
       "Eq(k^*, (B*s/(delta + n))**(-1/(alpha - 1)))"
      ]
     },
     "metadata": {},
     "output_type": "display_data"
    },
    {
     "data": {
      "text/latex": [
       "$\\displaystyle y^{*} = B \\left(\\left(\\frac{B s}{\\delta + n}\\right)^{- \\frac{1}{\\alpha - 1}}\\right)^{\\alpha}$"
      ],
      "text/plain": [
       "Eq(y^*, B*((B*s/(delta + n))**(-1/(alpha - 1)))**alpha)"
      ]
     },
     "metadata": {},
     "output_type": "display_data"
    }
   ],
   "source": [
    "#Find steady state for k\n",
    "ssk = sm.Eq(kstar,((s*B*kstar**alpha+(1-delta)*kstar)/(1+n)))\n",
    "ss_k = sm.solve(ssk,kstar)[0]\n",
    "s_s_k = sm.Eq(kstar,ss_k)\n",
    "\n",
    "#Find steady state for y\n",
    "ssy = sm.Eq(ystar,((B*ss_k**alpha)))\n",
    "ss_y = sm.solve(ssy,ystar)[0]\n",
    "s_s_y = sm.Eq(ystar,ss_y)\n",
    "\n",
    "#Show the results\n",
    "display(s_s_k)\n",
    "display(s_s_y)"
   ]
  },
  {
   "cell_type": "code",
   "execution_count": 51,
   "metadata": {},
   "outputs": [
    {
     "name": "stdout",
     "output_type": "stream",
     "text": [
      "Steady state value of capital: 4.829\n",
      "Steady state value of output: 1.690\n"
     ]
    }
   ],
   "source": [
    "#We will now turn our solution into a Python function\n",
    "ssk_func = sm.lambdify((B, s, delta, n, alpha), ss_k)\n",
    "\n",
    "ssy_func = sm.lambdify((B, s, delta, n, alpha), ss_y)\n",
    "\n",
    "#We will now evaluate the functions with specific parameters:\n",
    "ssk_value = ssk_func(1, 0.2, 0.05, 0.02, 1/3)\n",
    "\n",
    "ssy_value = ssy_func(1, 0.2, 0.05, 0.02, 1/3)\n",
    "\n",
    "# Print the values\n",
    "print('Steady state value of capital: {:.3f}'.format(ssk_value))\n",
    "print('Steady state value of output: {:.3f}'.format(ssy_value))"
   ]
  },
  {
   "cell_type": "markdown",
   "metadata": {},
   "source": [
    "## Numerical solution"
   ]
  },
  {
   "cell_type": "markdown",
   "metadata": {},
   "source": [
    "You can always solve a model numerically. \n",
    "\n",
    "Define first the set of parameters you need. \n",
    "\n",
    "Then choose one of the optimization algorithms that we have gone through in the lectures based on what you think is most fitting for your model.\n",
    "\n",
    "Are there any problems with convergence? Does the model converge for all starting values? Make a lot of testing to figure these things out. "
   ]
  },
  {
   "cell_type": "markdown",
   "metadata": {},
   "source": [
    "We will now find the numerical solution of The Basic Solow Model. \n",
    "To do this, we start by defining the parameters. Then we find steady state for k and y using the root finding optimizer, optimize.root_scalar, where we use the method brentq. Brentq is in general considered as the best of the rootfinding methods. This is because that is is a method with a fast convergence speed and it is robust against different types of functions. "
   ]
  },
  {
   "cell_type": "code",
   "execution_count": 60,
   "metadata": {},
   "outputs": [
    {
     "name": "stdout",
     "output_type": "stream",
     "text": [
      "Steady state value of capital: 4.829\n",
      "Steady state value of output: 1.690\n"
     ]
    }
   ],
   "source": [
    "#The parameters\n",
    "B = 1\n",
    "s = 0.2\n",
    "delta = 0.05\n",
    "n = 0.02\n",
    "alpha = 1/3\n",
    "\n",
    "#Finding steady state with an optimizer for k\n",
    "solow_ss_k = lambda ss_k: ss_k - ((s*B*ss_k**alpha+(1-delta)*ss_k)/(1+n))\n",
    "result_k = optimize.root_scalar(solow_ss_k,bracket=[0.1,100],method='brentq')\n",
    "\n",
    "#Finding steady state with an optimizer for y\n",
    "solow_ss_y = lambda ss_y: ss_y - (B*result_k.root**alpha)\n",
    "result_y = optimize.root_scalar(solow_ss_y,bracket=[0.1,100],method='brentq')\n",
    "\n",
    "\n",
    "print('Steady state value of capital: {:.3f}'.format(result_k.root))\n",
    "print('Steady state value of output: {:.3f}'.format(result_y.root))\n",
    "\n"
   ]
  },
  {
   "cell_type": "markdown",
   "metadata": {},
   "source": [
    "As we can see, the numerical solution gives the same steady state values as the analytical solution. \n",
    "\n",
    "We will now make a Solow Diagram for The Basic Solow Model."
   ]
  },
  {
   "cell_type": "code",
   "execution_count": null,
   "metadata": {},
   "outputs": [],
   "source": [
    "# Parametre\n",
    "B = 1\n",
    "s = 0.2\n",
    "delta = 0.05\n",
    "n = 0.02\n",
    "alpha = 1/3\n",
    "\n",
    "# Funktioner\n",
    "def output(k_t):\n",
    "    return (n+delta)*k_t\n",
    "\n",
    "def output(y):\n",
    "    return B*k_t**alpha\n",
    "\n",
    "def steady_state():\n",
    "    return ((s * A) / (n + d)) ** (1 / (1 - alpha))\n",
    "\n",
    "# Data\n",
    "k_values = np.linspace(0.1, 10, 100)\n",
    "y_values = output(k_values)\n",
    "k_star = effektiv_kapital(k_values)\n",
    "ss = steady_state()\n",
    "k_t = [ss] * len(k_values)\n",
    "\n",
    "# Grafer\n",
    "fig = make_subplots(rows=2, cols=2, subplot_titles=(\"Output (Y)\", \"kt\", \"k*\", \"kt over tid\"))\n",
    "\n",
    "fig.add_trace(go.Scatter(x=k_values, y=y_values, mode='lines', name='Output (Y)'), row=1, col=1)\n",
    "fig.add_trace(go.Scatter(x=k_values, y=k_values, mode='lines', name='kt'), row=1, col=2)\n",
    "fig.add_trace(go.Scatter(x=k_values, y=k_star, mode='lines', name='k*'), row=2, col=1)\n",
    "fig.add_trace(go.Scatter(x=k_values, y=k_t, mode='lines', name='kt over tid'), row=2, col=2)\n",
    "\n",
    "# Layout\n",
    "fig.update_layout(title=\"Interaktiv Solow-diagram\",\n",
    "                  xaxis=dict(title=\"kapital per arbejder (k)\"),\n",
    "                  yaxis=dict(title=\"Y / kt / k*\"),\n",
    "                  showlegend=False)\n",
    "\n",
    "# Vis grafer\n",
    "fig.show()"
   ]
  },
  {
   "cell_type": "markdown",
   "metadata": {},
   "source": [
    "# Further analysis"
   ]
  },
  {
   "cell_type": "markdown",
   "metadata": {},
   "source": [
    "Make detailed vizualizations of how your model changes with parameter values. \n",
    "\n",
    "Try to make an extension of the model. "
   ]
  },
  {
   "cell_type": "code",
   "execution_count": 38,
   "metadata": {},
   "outputs": [
    {
     "data": {
      "application/vnd.jupyter.widget-view+json": {
       "model_id": "e7fe49af7ea6405db3b5c021edd038ed",
       "version_major": 2,
       "version_minor": 0
      },
      "text/plain": [
       "interactive(children=(FloatSlider(value=0.01, description='n', max=0.1, min=0.01, step=0.005), FloatSlider(val…"
      ]
     },
     "metadata": {},
     "output_type": "display_data"
    }
   ],
   "source": [
    "def basic_solow_diagram(k: int, n: float, s: float, B: int, alpha: float, delta: float, kmax: int, kline: float):\n",
    "    # Calculate the growth rates of capital per capita and the diagonal line\n",
    "    k_values = np.linspace(0, kmax, 100)\n",
    "    k_growth = s * B * k_values**alpha\n",
    "    diagonal = (n + delta) * k_values\n",
    "\n",
    "    # Calculate steady state capital per capita\n",
    "    k_star = ((B*s)/(n+delta))**(-1/(alpha-1))\n",
    "\n",
    "    # The figure size and the two graphs\n",
    "    plt.figure(figsize=(10, 7))\n",
    "    plt.plot(k_values, diagonal, label=r'$(n+\\delta)k_t$', color='black')\n",
    "    plt.plot(k_values, k_growth, label=r'$y_t = sBk_t^{\\alpha}$', color='mediumorchid')\n",
    "\n",
    "    #The steady state point, the starting point and the labels:\n",
    "    plt.axvline(x=kline, linestyle='--', color='royalblue', label=r'$k_0$')\n",
    "    plt.axvline(x=k_star, linestyle='--', color='gold', label=r'$k*$')\n",
    "    plt.xlim(0, kmax)\n",
    "    plt.xlabel('$k_t$')\n",
    "    plt.ylabel('$k_{t+1}$')\n",
    "    plt.legend()\n",
    "    plt.title('The Basic Solow Diagram')\n",
    "    plt.grid(True)\n",
    "    \n",
    "# Interactive plot\n",
    "interact(basic_solow_diagram,\n",
    "    k=widgets.fixed(0),\n",
    "    alpha=widgets.FloatSlider(description=r'α', min=0, max=0.9, step=0.05, value=0.3),\n",
    "    delta=widgets.FloatSlider(description=r'δ', min=0, max=0.1, step=0.01, value=0.01),\n",
    "    s=widgets.FloatSlider(description='s', min=0.01, max=0.8, step=0.05, value=0.4),\n",
    "    n=widgets.FloatSlider(description='n', min=0.01, max=0.1, step=0.005, value=0.01),\n",
    "    B=widgets.fixed(1),\n",
    "    kmax=widgets.IntSlider(description='k_t axis', min=1, max=100, step=10, value=100),\n",
    "    kline=widgets.FloatSlider(description='k_t', min=0, max=100, step=0.1, value=20))\n",
    "\n",
    "# Show plot\n",
    "plt.show(basic_solow_diagram)"
   ]
  },
  {
   "cell_type": "markdown",
   "metadata": {},
   "source": [
    "# Conclusion"
   ]
  },
  {
   "cell_type": "markdown",
   "metadata": {},
   "source": [
    "Add concise conclusion. "
   ]
  }
 ],
 "metadata": {
  "kernelspec": {
   "display_name": "base",
   "language": "python",
   "name": "python3"
  },
  "language_info": {
   "codemirror_mode": {
    "name": "ipython",
    "version": 3
   },
   "file_extension": ".py",
   "mimetype": "text/x-python",
   "name": "python",
   "nbconvert_exporter": "python",
   "pygments_lexer": "ipython3",
   "version": "3.11.7"
  },
  "toc-autonumbering": true,
  "vscode": {
   "interpreter": {
    "hash": "47ef90cdf3004d3f859f1fb202523c65c07ba7c22eefd261b181f4744e2d0403"
   }
  }
 },
 "nbformat": 4,
 "nbformat_minor": 4
}
